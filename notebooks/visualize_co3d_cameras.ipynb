{
 "cells": [
  {
   "cell_type": "code",
   "execution_count": 1,
   "id": "3b44d715-c4e7-4894-be3a-b2ade7535eab",
   "metadata": {},
   "outputs": [],
   "source": [
    "import sys\n",
    "sys.path.append('/app')\n",
    "sys.path.append('/app/submodules')\n",
    "\n",
    "from src.visualizations import visualize_cameras, visualize_cameras_trajectorie"
   ]
  },
  {
   "cell_type": "code",
   "execution_count": 2,
   "id": "c899abff-afdb-4b05-871d-cf490a06b565",
   "metadata": {},
   "outputs": [],
   "source": [
    "import torch\n",
    "\n",
    "import lovely_tensors as lt\n",
    "lt.monkey_patch()\n",
    "import numpy as np"
   ]
  },
  {
   "cell_type": "code",
   "execution_count": 8,
   "id": "d8e322be-8528-4763-a188-0211fc8f3f4f",
   "metadata": {},
   "outputs": [],
   "source": [
    "from pathlib import Path \n",
    "\n",
    "CO3DV2_DATASET_ROOT = '/app/data/datasets/'\n",
    "category_name = 'car'\n",
    "sequence_name='106_12650_23736'"
   ]
  },
  {
   "cell_type": "code",
   "execution_count": 11,
   "id": "fa5d6eb4-4bfc-4c29-a949-2713fb7f5b9a",
   "metadata": {},
   "outputs": [
    {
     "data": {
      "text/plain": [
       "6"
      ]
     },
     "execution_count": 11,
     "metadata": {},
     "output_type": "execute_result"
    }
   ],
   "source": [
    "from typing import List\n",
    "from co3d.dataset.data_types import (\n",
    "    load_dataclass_jgzip, FrameAnnotation, SequenceAnnotation\n",
    ")\n",
    "category_frame_annotations = load_dataclass_jgzip(\n",
    "    f\"{CO3DV2_DATASET_ROOT}/{category_name}/frame_annotations.jgz\", List[FrameAnnotation]\n",
    ")\n",
    "\n",
    "\n",
    "seq_ann = [ann for ann in category_frame_annotations if ann.sequence_name == sequence_name]\n",
    "\n",
    "seq_ann = sorted(seq_ann, key = lambda item: item.frame_number)\n",
    "\n",
    "\n",
    "category_sequence_annotations = load_dataclass_jgzip(\n",
    "    f\"{CO3DV2_DATASET_ROOT}/{category_name}/sequence_annotations.jgz\", List[SequenceAnnotation]\n",
    ")"
   ]
  },
  {
   "cell_type": "code",
   "execution_count": 14,
   "id": "601ae175-84c9-420d-bd85-9d39a60ff109",
   "metadata": {},
   "outputs": [],
   "source": [
    "from PIL import Image\n",
    "img = Image.open(\"/app/data/datasets/\"+seq_ann[144].image.path)"
   ]
  },
  {
   "cell_type": "code",
   "execution_count": 18,
   "id": "549fb0e5-9050-4a77-8996-76aeaa3cb02a",
   "metadata": {},
   "outputs": [],
   "source": [
    "from pytorch3d.renderer import (\n",
    "    look_at_view_transform,\n",
    "    PerspectiveCameras,\n",
    ")\n",
    "\n",
    "viewpoints = [ann.viewpoint for ann in seq_ann if ann.frame_number % 10 == 0]\n",
    "img_paths = [ann.image.path for ann in seq_ann if ann.frame_number % 10 == 0]\n",
    "\n",
    "\n",
    "\n",
    "R, T, pp, fl = [], [], [], []\n",
    "for viewpoint in viewpoints:\n",
    "    R.append(torch.tensor(viewpoint.R))\n",
    "    T.append(torch.tensor(viewpoint.T))\n",
    "    pp.append(torch.tensor(viewpoint.principal_point))\n",
    "    fl.append(torch.tensor(viewpoint.focal_length))\n",
    "\n",
    "R = torch.stack(R)\n",
    "T = torch.stack(T)\n",
    "pp = torch.stack(pp)\n",
    "fl = torch.stack(fl)\n",
    "\n",
    "cameras = PerspectiveCameras(\n",
    "    R = R,\n",
    "    T = T,\n",
    "    principal_point = pp,\n",
    "    focal_length = fl,\n",
    ")"
   ]
  },
  {
   "cell_type": "code",
   "execution_count": 19,
   "id": "6de565c7-dde6-4494-85be-cabd3e057f82",
   "metadata": {},
   "outputs": [
    {
     "data": {
      "text/plain": [
       "(tensor[20, 3, 3] n=180 x∈[-1.000, 0.998] μ=-0.118 σ=0.567,\n",
       " tensor[20, 3] n=60 x∈[-7.008, 7.925] μ=-0.114 σ=4.233)"
      ]
     },
     "execution_count": 19,
     "metadata": {},
     "output_type": "execute_result"
    }
   ],
   "source": [
    "R_c2w = cameras.get_world_to_view_transform().inverse().get_matrix()[:, :3, :3]\n",
    "T_c2w = cameras.get_world_to_view_transform().inverse().get_matrix()[:, -1, :3]\n",
    "\n",
    "R_c2w, T_c2w"
   ]
  },
  {
   "cell_type": "code",
   "execution_count": 21,
   "id": "f9f27fa2-df5d-4e92-b078-eb65238536e2",
   "metadata": {},
   "outputs": [
    {
     "data": {
      "application/vnd.plotly.v1+json": {
       "config": {
        "plotlyServerURL": "https://plot.ly"
       },
       "data": [
        {
         "line": {
          "color": "blue",
          "dash": "dash",
          "width": 5
         },
         "mode": "lines",
         "type": "scatter3d",
         "x": [
          2.7804689407348633,
          0.859489917755127
         ],
         "y": [
          -0.09807243943214417,
          -0.04934527352452278
         ],
         "z": [
          -6.3398027420043945,
          -6.901167869567871
         ]
        },
        {
         "line": {
          "color": "blue",
          "dash": "dash",
          "width": 5
         },
         "mode": "lines",
         "type": "scatter3d",
         "x": [
          4.783838748931885,
          2.7804689407348633
         ],
         "y": [
          -0.24737460911273956,
          -0.09807243943214417
         ],
         "z": [
          -4.924686908721924,
          -6.3398027420043945
         ]
        },
        {
         "line": {
          "color": "blue",
          "dash": "dash",
          "width": 5
         },
         "mode": "lines",
         "type": "scatter3d",
         "x": [
          6.266602039337158,
          4.783838748931885
         ],
         "y": [
          -0.47307735681533813,
          -0.24737460911273956
         ],
         "z": [
          -2.9434502124786377,
          -4.924686908721924
         ]
        },
        {
         "line": {
          "color": "blue",
          "dash": "dash",
          "width": 5
         },
         "mode": "lines",
         "type": "scatter3d",
         "x": [
          7.069118976593018,
          6.266602039337158
         ],
         "y": [
          -0.7015442252159119,
          -0.47307735681533813
         ],
         "z": [
          -0.7088972330093384,
          -2.9434502124786377
         ]
        },
        {
         "line": {
          "color": "blue",
          "dash": "dash",
          "width": 5
         },
         "mode": "lines",
         "type": "scatter3d",
         "x": [
          7.322258949279785,
          7.069118976593018
         ],
         "y": [
          -0.9469588994979858,
          -0.7015442252159119
         ],
         "z": [
          1.6605544090270996,
          -0.7088972330093384
         ]
        },
        {
         "line": {
          "color": "blue",
          "dash": "dash",
          "width": 5
         },
         "mode": "lines",
         "type": "scatter3d",
         "x": [
          6.937180042266846,
          7.322258949279785
         ],
         "y": [
          -1.2208137512207031,
          -0.9469588994979858
         ],
         "z": [
          4.047393798828125,
          1.6605544090270996
         ]
        },
        {
         "line": {
          "color": "blue",
          "dash": "dash",
          "width": 5
         },
         "mode": "lines",
         "type": "scatter3d",
         "x": [
          5.469638824462891,
          6.937180042266846
         ],
         "y": [
          -1.4176846742630005,
          -1.2208137512207031
         ],
         "z": [
          6.032253742218018,
          4.047393798828125
         ]
        },
        {
         "line": {
          "color": "blue",
          "dash": "dash",
          "width": 5
         },
         "mode": "lines",
         "type": "scatter3d",
         "x": [
          3.353532552719116,
          5.469638824462891
         ],
         "y": [
          -1.6096162796020508,
          -1.4176846742630005
         ],
         "z": [
          7.486783981323242,
          6.032253742218018
         ]
        },
        {
         "line": {
          "color": "blue",
          "dash": "dash",
          "width": 5
         },
         "mode": "lines",
         "type": "scatter3d",
         "x": [
          0.5851976871490479,
          3.353532552719116
         ],
         "y": [
          -1.6456806659698486,
          -1.6096162796020508
         ],
         "z": [
          7.925055503845215,
          7.486783981323242
         ]
        },
        {
         "line": {
          "color": "blue",
          "dash": "dash",
          "width": 5
         },
         "mode": "lines",
         "type": "scatter3d",
         "x": [
          -2.101924180984497,
          0.5851976871490479
         ],
         "y": [
          -1.622266411781311,
          -1.6456806659698486
         ],
         "z": [
          7.676974296569824,
          7.925055503845215
         ]
        },
        {
         "line": {
          "color": "blue",
          "dash": "dash",
          "width": 5
         },
         "mode": "lines",
         "type": "scatter3d",
         "x": [
          -4.445888519287109,
          -2.101924180984497
         ],
         "y": [
          -1.4384557008743286,
          -1.622266411781311
         ],
         "z": [
          6.338644027709961,
          7.676974296569824
         ]
        },
        {
         "line": {
          "color": "blue",
          "dash": "dash",
          "width": 5
         },
         "mode": "lines",
         "type": "scatter3d",
         "x": [
          -6.054685115814209,
          -4.445888519287109
         ],
         "y": [
          -1.2202117443084717,
          -1.4384557008743286
         ],
         "z": [
          4.244233131408691,
          6.338644027709961
         ]
        },
        {
         "line": {
          "color": "blue",
          "dash": "dash",
          "width": 5
         },
         "mode": "lines",
         "type": "scatter3d",
         "x": [
          -7.00773286819458,
          -6.054685115814209
         ],
         "y": [
          -0.9837038516998291,
          -1.2202117443084717
         ],
         "z": [
          1.8445534706115723,
          4.244233131408691
         ]
        },
        {
         "line": {
          "color": "blue",
          "dash": "dash",
          "width": 5
         },
         "mode": "lines",
         "type": "scatter3d",
         "x": [
          -6.844820499420166,
          -7.00773286819458
         ],
         "y": [
          -0.7509773969650269,
          -0.9837038516998291
         ],
         "z": [
          -0.5800008177757263,
          1.8445534706115723
         ]
        },
        {
         "line": {
          "color": "blue",
          "dash": "dash",
          "width": 5
         },
         "mode": "lines",
         "type": "scatter3d",
         "x": [
          -6.036434650421143,
          -6.844820499420166
         ],
         "y": [
          -0.5254479646682739,
          -0.7509773969650269
         ],
         "z": [
          -2.857203245162964,
          -0.5800008177757263
         ]
        },
        {
         "line": {
          "color": "blue",
          "dash": "dash",
          "width": 5
         },
         "mode": "lines",
         "type": "scatter3d",
         "x": [
          -4.364258766174316,
          -6.036434650421143
         ],
         "y": [
          -0.310177743434906,
          -0.5254479646682739
         ],
         "z": [
          -4.822831630706787,
          -2.857203245162964
         ]
        },
        {
         "line": {
          "color": "blue",
          "dash": "dash",
          "width": 5
         },
         "mode": "lines",
         "type": "scatter3d",
         "x": [
          -2.0537192821502686,
          -4.364258766174316
         ],
         "y": [
          -0.1770974099636078,
          -0.310177743434906
         ],
         "z": [
          -5.919167995452881,
          -4.822831630706787
         ]
        },
        {
         "line": {
          "color": "blue",
          "dash": "dash",
          "width": 5
         },
         "mode": "lines",
         "type": "scatter3d",
         "x": [
          0.37295955419540405,
          -2.0537192821502686
         ],
         "y": [
          -0.14393958449363708,
          -0.1770974099636078
         ],
         "z": [
          -6.114772796630859,
          -5.919167995452881
         ]
        },
        {
         "line": {
          "color": "blue",
          "dash": "dash",
          "width": 5
         },
         "mode": "lines",
         "type": "scatter3d",
         "x": [
          2.535250186920166,
          0.37295955419540405
         ],
         "y": [
          -0.17269408702850342,
          -0.14393958449363708
         ],
         "z": [
          -5.642230033874512,
          -6.114772796630859
         ]
        }
       ],
       "layout": {
        "height": 360,
        "margin": {
         "b": 10,
         "l": 10,
         "r": 20,
         "t": 10
        },
        "scene": {
         "aspectmode": "cube",
         "aspectratio": {
          "x": 1,
          "y": 1,
          "z": 1
         },
         "camera": {
          "center": {
           "x": 0,
           "y": 0,
           "z": 0
          },
          "eye": {
           "x": 3.265245812069344,
           "y": 3.2652458120693426,
           "z": 3.2652458120693404
          },
          "projection": {
           "type": "perspective"
          },
          "up": {
           "x": -0.408248290463863,
           "y": 0.8164965809277259,
           "z": -0.40824829046386313
          }
         },
         "xaxis": {
          "nticks": 4,
          "range": [
           -10,
           10
          ],
          "title": {
           "text": "X axis"
          },
          "type": "linear"
         },
         "yaxis": {
          "nticks": 4,
          "range": [
           -10,
           10
          ],
          "title": {
           "text": "Y axis"
          },
          "type": "linear"
         },
         "zaxis": {
          "nticks": 4,
          "range": [
           -10,
           10
          ],
          "title": {
           "text": "Z axis"
          },
          "type": "linear"
         }
        },
        "template": {
         "data": {
          "bar": [
           {
            "error_x": {
             "color": "#2a3f5f"
            },
            "error_y": {
             "color": "#2a3f5f"
            },
            "marker": {
             "line": {
              "color": "#E5ECF6",
              "width": 0.5
             },
             "pattern": {
              "fillmode": "overlay",
              "size": 10,
              "solidity": 0.2
             }
            },
            "type": "bar"
           }
          ],
          "barpolar": [
           {
            "marker": {
             "line": {
              "color": "#E5ECF6",
              "width": 0.5
             },
             "pattern": {
              "fillmode": "overlay",
              "size": 10,
              "solidity": 0.2
             }
            },
            "type": "barpolar"
           }
          ],
          "carpet": [
           {
            "aaxis": {
             "endlinecolor": "#2a3f5f",
             "gridcolor": "white",
             "linecolor": "white",
             "minorgridcolor": "white",
             "startlinecolor": "#2a3f5f"
            },
            "baxis": {
             "endlinecolor": "#2a3f5f",
             "gridcolor": "white",
             "linecolor": "white",
             "minorgridcolor": "white",
             "startlinecolor": "#2a3f5f"
            },
            "type": "carpet"
           }
          ],
          "choropleth": [
           {
            "colorbar": {
             "outlinewidth": 0,
             "ticks": ""
            },
            "type": "choropleth"
           }
          ],
          "contour": [
           {
            "colorbar": {
             "outlinewidth": 0,
             "ticks": ""
            },
            "colorscale": [
             [
              0,
              "#0d0887"
             ],
             [
              0.1111111111111111,
              "#46039f"
             ],
             [
              0.2222222222222222,
              "#7201a8"
             ],
             [
              0.3333333333333333,
              "#9c179e"
             ],
             [
              0.4444444444444444,
              "#bd3786"
             ],
             [
              0.5555555555555556,
              "#d8576b"
             ],
             [
              0.6666666666666666,
              "#ed7953"
             ],
             [
              0.7777777777777778,
              "#fb9f3a"
             ],
             [
              0.8888888888888888,
              "#fdca26"
             ],
             [
              1,
              "#f0f921"
             ]
            ],
            "type": "contour"
           }
          ],
          "contourcarpet": [
           {
            "colorbar": {
             "outlinewidth": 0,
             "ticks": ""
            },
            "type": "contourcarpet"
           }
          ],
          "heatmap": [
           {
            "colorbar": {
             "outlinewidth": 0,
             "ticks": ""
            },
            "colorscale": [
             [
              0,
              "#0d0887"
             ],
             [
              0.1111111111111111,
              "#46039f"
             ],
             [
              0.2222222222222222,
              "#7201a8"
             ],
             [
              0.3333333333333333,
              "#9c179e"
             ],
             [
              0.4444444444444444,
              "#bd3786"
             ],
             [
              0.5555555555555556,
              "#d8576b"
             ],
             [
              0.6666666666666666,
              "#ed7953"
             ],
             [
              0.7777777777777778,
              "#fb9f3a"
             ],
             [
              0.8888888888888888,
              "#fdca26"
             ],
             [
              1,
              "#f0f921"
             ]
            ],
            "type": "heatmap"
           }
          ],
          "heatmapgl": [
           {
            "colorbar": {
             "outlinewidth": 0,
             "ticks": ""
            },
            "colorscale": [
             [
              0,
              "#0d0887"
             ],
             [
              0.1111111111111111,
              "#46039f"
             ],
             [
              0.2222222222222222,
              "#7201a8"
             ],
             [
              0.3333333333333333,
              "#9c179e"
             ],
             [
              0.4444444444444444,
              "#bd3786"
             ],
             [
              0.5555555555555556,
              "#d8576b"
             ],
             [
              0.6666666666666666,
              "#ed7953"
             ],
             [
              0.7777777777777778,
              "#fb9f3a"
             ],
             [
              0.8888888888888888,
              "#fdca26"
             ],
             [
              1,
              "#f0f921"
             ]
            ],
            "type": "heatmapgl"
           }
          ],
          "histogram": [
           {
            "marker": {
             "pattern": {
              "fillmode": "overlay",
              "size": 10,
              "solidity": 0.2
             }
            },
            "type": "histogram"
           }
          ],
          "histogram2d": [
           {
            "colorbar": {
             "outlinewidth": 0,
             "ticks": ""
            },
            "colorscale": [
             [
              0,
              "#0d0887"
             ],
             [
              0.1111111111111111,
              "#46039f"
             ],
             [
              0.2222222222222222,
              "#7201a8"
             ],
             [
              0.3333333333333333,
              "#9c179e"
             ],
             [
              0.4444444444444444,
              "#bd3786"
             ],
             [
              0.5555555555555556,
              "#d8576b"
             ],
             [
              0.6666666666666666,
              "#ed7953"
             ],
             [
              0.7777777777777778,
              "#fb9f3a"
             ],
             [
              0.8888888888888888,
              "#fdca26"
             ],
             [
              1,
              "#f0f921"
             ]
            ],
            "type": "histogram2d"
           }
          ],
          "histogram2dcontour": [
           {
            "colorbar": {
             "outlinewidth": 0,
             "ticks": ""
            },
            "colorscale": [
             [
              0,
              "#0d0887"
             ],
             [
              0.1111111111111111,
              "#46039f"
             ],
             [
              0.2222222222222222,
              "#7201a8"
             ],
             [
              0.3333333333333333,
              "#9c179e"
             ],
             [
              0.4444444444444444,
              "#bd3786"
             ],
             [
              0.5555555555555556,
              "#d8576b"
             ],
             [
              0.6666666666666666,
              "#ed7953"
             ],
             [
              0.7777777777777778,
              "#fb9f3a"
             ],
             [
              0.8888888888888888,
              "#fdca26"
             ],
             [
              1,
              "#f0f921"
             ]
            ],
            "type": "histogram2dcontour"
           }
          ],
          "mesh3d": [
           {
            "colorbar": {
             "outlinewidth": 0,
             "ticks": ""
            },
            "type": "mesh3d"
           }
          ],
          "parcoords": [
           {
            "line": {
             "colorbar": {
              "outlinewidth": 0,
              "ticks": ""
             }
            },
            "type": "parcoords"
           }
          ],
          "pie": [
           {
            "automargin": true,
            "type": "pie"
           }
          ],
          "scatter": [
           {
            "fillpattern": {
             "fillmode": "overlay",
             "size": 10,
             "solidity": 0.2
            },
            "type": "scatter"
           }
          ],
          "scatter3d": [
           {
            "line": {
             "colorbar": {
              "outlinewidth": 0,
              "ticks": ""
             }
            },
            "marker": {
             "colorbar": {
              "outlinewidth": 0,
              "ticks": ""
             }
            },
            "type": "scatter3d"
           }
          ],
          "scattercarpet": [
           {
            "marker": {
             "colorbar": {
              "outlinewidth": 0,
              "ticks": ""
             }
            },
            "type": "scattercarpet"
           }
          ],
          "scattergeo": [
           {
            "marker": {
             "colorbar": {
              "outlinewidth": 0,
              "ticks": ""
             }
            },
            "type": "scattergeo"
           }
          ],
          "scattergl": [
           {
            "marker": {
             "colorbar": {
              "outlinewidth": 0,
              "ticks": ""
             }
            },
            "type": "scattergl"
           }
          ],
          "scattermapbox": [
           {
            "marker": {
             "colorbar": {
              "outlinewidth": 0,
              "ticks": ""
             }
            },
            "type": "scattermapbox"
           }
          ],
          "scatterpolar": [
           {
            "marker": {
             "colorbar": {
              "outlinewidth": 0,
              "ticks": ""
             }
            },
            "type": "scatterpolar"
           }
          ],
          "scatterpolargl": [
           {
            "marker": {
             "colorbar": {
              "outlinewidth": 0,
              "ticks": ""
             }
            },
            "type": "scatterpolargl"
           }
          ],
          "scatterternary": [
           {
            "marker": {
             "colorbar": {
              "outlinewidth": 0,
              "ticks": ""
             }
            },
            "type": "scatterternary"
           }
          ],
          "surface": [
           {
            "colorbar": {
             "outlinewidth": 0,
             "ticks": ""
            },
            "colorscale": [
             [
              0,
              "#0d0887"
             ],
             [
              0.1111111111111111,
              "#46039f"
             ],
             [
              0.2222222222222222,
              "#7201a8"
             ],
             [
              0.3333333333333333,
              "#9c179e"
             ],
             [
              0.4444444444444444,
              "#bd3786"
             ],
             [
              0.5555555555555556,
              "#d8576b"
             ],
             [
              0.6666666666666666,
              "#ed7953"
             ],
             [
              0.7777777777777778,
              "#fb9f3a"
             ],
             [
              0.8888888888888888,
              "#fdca26"
             ],
             [
              1,
              "#f0f921"
             ]
            ],
            "type": "surface"
           }
          ],
          "table": [
           {
            "cells": {
             "fill": {
              "color": "#EBF0F8"
             },
             "line": {
              "color": "white"
             }
            },
            "header": {
             "fill": {
              "color": "#C8D4E3"
             },
             "line": {
              "color": "white"
             }
            },
            "type": "table"
           }
          ]
         },
         "layout": {
          "annotationdefaults": {
           "arrowcolor": "#2a3f5f",
           "arrowhead": 0,
           "arrowwidth": 1
          },
          "autotypenumbers": "strict",
          "coloraxis": {
           "colorbar": {
            "outlinewidth": 0,
            "ticks": ""
           }
          },
          "colorscale": {
           "diverging": [
            [
             0,
             "#8e0152"
            ],
            [
             0.1,
             "#c51b7d"
            ],
            [
             0.2,
             "#de77ae"
            ],
            [
             0.3,
             "#f1b6da"
            ],
            [
             0.4,
             "#fde0ef"
            ],
            [
             0.5,
             "#f7f7f7"
            ],
            [
             0.6,
             "#e6f5d0"
            ],
            [
             0.7,
             "#b8e186"
            ],
            [
             0.8,
             "#7fbc41"
            ],
            [
             0.9,
             "#4d9221"
            ],
            [
             1,
             "#276419"
            ]
           ],
           "sequential": [
            [
             0,
             "#0d0887"
            ],
            [
             0.1111111111111111,
             "#46039f"
            ],
            [
             0.2222222222222222,
             "#7201a8"
            ],
            [
             0.3333333333333333,
             "#9c179e"
            ],
            [
             0.4444444444444444,
             "#bd3786"
            ],
            [
             0.5555555555555556,
             "#d8576b"
            ],
            [
             0.6666666666666666,
             "#ed7953"
            ],
            [
             0.7777777777777778,
             "#fb9f3a"
            ],
            [
             0.8888888888888888,
             "#fdca26"
            ],
            [
             1,
             "#f0f921"
            ]
           ],
           "sequentialminus": [
            [
             0,
             "#0d0887"
            ],
            [
             0.1111111111111111,
             "#46039f"
            ],
            [
             0.2222222222222222,
             "#7201a8"
            ],
            [
             0.3333333333333333,
             "#9c179e"
            ],
            [
             0.4444444444444444,
             "#bd3786"
            ],
            [
             0.5555555555555556,
             "#d8576b"
            ],
            [
             0.6666666666666666,
             "#ed7953"
            ],
            [
             0.7777777777777778,
             "#fb9f3a"
            ],
            [
             0.8888888888888888,
             "#fdca26"
            ],
            [
             1,
             "#f0f921"
            ]
           ]
          },
          "colorway": [
           "#636efa",
           "#EF553B",
           "#00cc96",
           "#ab63fa",
           "#FFA15A",
           "#19d3f3",
           "#FF6692",
           "#B6E880",
           "#FF97FF",
           "#FECB52"
          ],
          "font": {
           "color": "#2a3f5f"
          },
          "geo": {
           "bgcolor": "white",
           "lakecolor": "white",
           "landcolor": "#E5ECF6",
           "showlakes": true,
           "showland": true,
           "subunitcolor": "white"
          },
          "hoverlabel": {
           "align": "left"
          },
          "hovermode": "closest",
          "mapbox": {
           "style": "light"
          },
          "paper_bgcolor": "white",
          "plot_bgcolor": "#E5ECF6",
          "polar": {
           "angularaxis": {
            "gridcolor": "white",
            "linecolor": "white",
            "ticks": ""
           },
           "bgcolor": "#E5ECF6",
           "radialaxis": {
            "gridcolor": "white",
            "linecolor": "white",
            "ticks": ""
           }
          },
          "scene": {
           "xaxis": {
            "backgroundcolor": "#E5ECF6",
            "gridcolor": "white",
            "gridwidth": 2,
            "linecolor": "white",
            "showbackground": true,
            "ticks": "",
            "zerolinecolor": "white"
           },
           "yaxis": {
            "backgroundcolor": "#E5ECF6",
            "gridcolor": "white",
            "gridwidth": 2,
            "linecolor": "white",
            "showbackground": true,
            "ticks": "",
            "zerolinecolor": "white"
           },
           "zaxis": {
            "backgroundcolor": "#E5ECF6",
            "gridcolor": "white",
            "gridwidth": 2,
            "linecolor": "white",
            "showbackground": true,
            "ticks": "",
            "zerolinecolor": "white"
           }
          },
          "shapedefaults": {
           "line": {
            "color": "#2a3f5f"
           }
          },
          "ternary": {
           "aaxis": {
            "gridcolor": "white",
            "linecolor": "white",
            "ticks": ""
           },
           "baxis": {
            "gridcolor": "white",
            "linecolor": "white",
            "ticks": ""
           },
           "bgcolor": "#E5ECF6",
           "caxis": {
            "gridcolor": "white",
            "linecolor": "white",
            "ticks": ""
           }
          },
          "title": {
           "x": 0.05
          },
          "xaxis": {
           "automargin": true,
           "gridcolor": "white",
           "linecolor": "white",
           "ticks": "",
           "title": {
            "standoff": 15
           },
           "zerolinecolor": "white",
           "zerolinewidth": 2
          },
          "yaxis": {
           "automargin": true,
           "gridcolor": "white",
           "linecolor": "white",
           "ticks": "",
           "title": {
            "standoff": 15
           },
           "zerolinecolor": "white",
           "zerolinewidth": 2
          }
         }
        },
        "width": 700
       }
      },
      "image/png": "[encoded data removed]",
      "text/html": [
       "<div>                            <div id=\"0ed08e2b-9bf7-4961-8030-30d5a3e56aea\" class=\"plotly-graph-div\" style=\"height:525px; width:700px;\"></div>            <script type=\"text/javascript\">                require([\"plotly\"], function(Plotly) {                    window.PLOTLYENV=window.PLOTLYENV || {};                                    if (document.getElementById(\"0ed08e2b-9bf7-4961-8030-30d5a3e56aea\")) {                    Plotly.newPlot(                        \"0ed08e2b-9bf7-4961-8030-30d5a3e56aea\",                        [{\"line\":{\"color\":\"blue\",\"dash\":\"dash\",\"width\":5},\"mode\":\"lines\",\"x\":[2.7804689407348633,0.859489917755127],\"y\":[-0.09807243943214417,-0.04934527352452278],\"z\":[-6.3398027420043945,-6.901167869567871],\"type\":\"scatter3d\"},{\"line\":{\"color\":\"blue\",\"dash\":\"dash\",\"width\":5},\"mode\":\"lines\",\"x\":[4.783838748931885,2.7804689407348633],\"y\":[-0.24737460911273956,-0.09807243943214417],\"z\":[-4.924686908721924,-6.3398027420043945],\"type\":\"scatter3d\"},{\"line\":{\"color\":\"blue\",\"dash\":\"dash\",\"width\":5},\"mode\":\"lines\",\"x\":[6.266602039337158,4.783838748931885],\"y\":[-0.47307735681533813,-0.24737460911273956],\"z\":[-2.9434502124786377,-4.924686908721924],\"type\":\"scatter3d\"},{\"line\":{\"color\":\"blue\",\"dash\":\"dash\",\"width\":5},\"mode\":\"lines\",\"x\":[7.069118976593018,6.266602039337158],\"y\":[-0.7015442252159119,-0.47307735681533813],\"z\":[-0.7088972330093384,-2.9434502124786377],\"type\":\"scatter3d\"},{\"line\":{\"color\":\"blue\",\"dash\":\"dash\",\"width\":5},\"mode\":\"lines\",\"x\":[7.322258949279785,7.069118976593018],\"y\":[-0.9469588994979858,-0.7015442252159119],\"z\":[1.6605544090270996,-0.7088972330093384],\"type\":\"scatter3d\"},{\"line\":{\"color\":\"blue\",\"dash\":\"dash\",\"width\":5},\"mode\":\"lines\",\"x\":[6.937180042266846,7.322258949279785],\"y\":[-1.2208137512207031,-0.9469588994979858],\"z\":[4.047393798828125,1.6605544090270996],\"type\":\"scatter3d\"},{\"line\":{\"color\":\"blue\",\"dash\":\"dash\",\"width\":5},\"mode\":\"lines\",\"x\":[5.469638824462891,6.937180042266846],\"y\":[-1.4176846742630005,-1.2208137512207031],\"z\":[6.032253742218018,4.047393798828125],\"type\":\"scatter3d\"},{\"line\":{\"color\":\"blue\",\"dash\":\"dash\",\"width\":5},\"mode\":\"lines\",\"x\":[3.353532552719116,5.469638824462891],\"y\":[-1.6096162796020508,-1.4176846742630005],\"z\":[7.486783981323242,6.032253742218018],\"type\":\"scatter3d\"},{\"line\":{\"color\":\"blue\",\"dash\":\"dash\",\"width\":5},\"mode\":\"lines\",\"x\":[0.5851976871490479,3.353532552719116],\"y\":[-1.6456806659698486,-1.6096162796020508],\"z\":[7.925055503845215,7.486783981323242],\"type\":\"scatter3d\"},{\"line\":{\"color\":\"blue\",\"dash\":\"dash\",\"width\":5},\"mode\":\"lines\",\"x\":[-2.101924180984497,0.5851976871490479],\"y\":[-1.622266411781311,-1.6456806659698486],\"z\":[7.676974296569824,7.925055503845215],\"type\":\"scatter3d\"},{\"line\":{\"color\":\"blue\",\"dash\":\"dash\",\"width\":5},\"mode\":\"lines\",\"x\":[-4.445888519287109,-2.101924180984497],\"y\":[-1.4384557008743286,-1.622266411781311],\"z\":[6.338644027709961,7.676974296569824],\"type\":\"scatter3d\"},{\"line\":{\"color\":\"blue\",\"dash\":\"dash\",\"width\":5},\"mode\":\"lines\",\"x\":[-6.054685115814209,-4.445888519287109],\"y\":[-1.2202117443084717,-1.4384557008743286],\"z\":[4.244233131408691,6.338644027709961],\"type\":\"scatter3d\"},{\"line\":{\"color\":\"blue\",\"dash\":\"dash\",\"width\":5},\"mode\":\"lines\",\"x\":[-7.00773286819458,-6.054685115814209],\"y\":[-0.9837038516998291,-1.2202117443084717],\"z\":[1.8445534706115723,4.244233131408691],\"type\":\"scatter3d\"},{\"line\":{\"color\":\"blue\",\"dash\":\"dash\",\"width\":5},\"mode\":\"lines\",\"x\":[-6.844820499420166,-7.00773286819458],\"y\":[-0.7509773969650269,-0.9837038516998291],\"z\":[-0.5800008177757263,1.8445534706115723],\"type\":\"scatter3d\"},{\"line\":{\"color\":\"blue\",\"dash\":\"dash\",\"width\":5},\"mode\":\"lines\",\"x\":[-6.036434650421143,-6.844820499420166],\"y\":[-0.5254479646682739,-0.7509773969650269],\"z\":[-2.857203245162964,-0.5800008177757263],\"type\":\"scatter3d\"},{\"line\":{\"color\":\"blue\",\"dash\":\"dash\",\"width\":5},\"mode\":\"lines\",\"x\":[-4.364258766174316,-6.036434650421143],\"y\":[-0.310177743434906,-0.5254479646682739],\"z\":[-4.822831630706787,-2.857203245162964],\"type\":\"scatter3d\"},{\"line\":{\"color\":\"blue\",\"dash\":\"dash\",\"width\":5},\"mode\":\"lines\",\"x\":[-2.0537192821502686,-4.364258766174316],\"y\":[-0.1770974099636078,-0.310177743434906],\"z\":[-5.919167995452881,-4.822831630706787],\"type\":\"scatter3d\"},{\"line\":{\"color\":\"blue\",\"dash\":\"dash\",\"width\":5},\"mode\":\"lines\",\"x\":[0.37295955419540405,-2.0537192821502686],\"y\":[-0.14393958449363708,-0.1770974099636078],\"z\":[-6.114772796630859,-5.919167995452881],\"type\":\"scatter3d\"},{\"line\":{\"color\":\"blue\",\"dash\":\"dash\",\"width\":5},\"mode\":\"lines\",\"x\":[2.535250186920166,0.37295955419540405],\"y\":[-0.17269408702850342,-0.14393958449363708],\"z\":[-5.642230033874512,-6.114772796630859],\"type\":\"scatter3d\"}],                        {\"template\":{\"data\":{\"histogram2dcontour\":[{\"type\":\"histogram2dcontour\",\"colorbar\":{\"outlinewidth\":0,\"ticks\":\"\"},\"colorscale\":[[0.0,\"#0d0887\"],[0.1111111111111111,\"#46039f\"],[0.2222222222222222,\"#7201a8\"],[0.3333333333333333,\"#9c179e\"],[0.4444444444444444,\"#bd3786\"],[0.5555555555555556,\"#d8576b\"],[0.6666666666666666,\"#ed7953\"],[0.7777777777777778,\"#fb9f3a\"],[0.8888888888888888,\"#fdca26\"],[1.0,\"#f0f921\"]]}],\"choropleth\":[{\"type\":\"choropleth\",\"colorbar\":{\"outlinewidth\":0,\"ticks\":\"\"}}],\"histogram2d\":[{\"type\":\"histogram2d\",\"colorbar\":{\"outlinewidth\":0,\"ticks\":\"\"},\"colorscale\":[[0.0,\"#0d0887\"],[0.1111111111111111,\"#46039f\"],[0.2222222222222222,\"#7201a8\"],[0.3333333333333333,\"#9c179e\"],[0.4444444444444444,\"#bd3786\"],[0.5555555555555556,\"#d8576b\"],[0.6666666666666666,\"#ed7953\"],[0.7777777777777778,\"#fb9f3a\"],[0.8888888888888888,\"#fdca26\"],[1.0,\"#f0f921\"]]}],\"heatmap\":[{\"type\":\"heatmap\",\"colorbar\":{\"outlinewidth\":0,\"ticks\":\"\"},\"colorscale\":[[0.0,\"#0d0887\"],[0.1111111111111111,\"#46039f\"],[0.2222222222222222,\"#7201a8\"],[0.3333333333333333,\"#9c179e\"],[0.4444444444444444,\"#bd3786\"],[0.5555555555555556,\"#d8576b\"],[0.6666666666666666,\"#ed7953\"],[0.7777777777777778,\"#fb9f3a\"],[0.8888888888888888,\"#fdca26\"],[1.0,\"#f0f921\"]]}],\"heatmapgl\":[{\"type\":\"heatmapgl\",\"colorbar\":{\"outlinewidth\":0,\"ticks\":\"\"},\"colorscale\":[[0.0,\"#0d0887\"],[0.1111111111111111,\"#46039f\"],[0.2222222222222222,\"#7201a8\"],[0.3333333333333333,\"#9c179e\"],[0.4444444444444444,\"#bd3786\"],[0.5555555555555556,\"#d8576b\"],[0.6666666666666666,\"#ed7953\"],[0.7777777777777778,\"#fb9f3a\"],[0.8888888888888888,\"#fdca26\"],[1.0,\"#f0f921\"]]}],\"contourcarpet\":[{\"type\":\"contourcarpet\",\"colorbar\":{\"outlinewidth\":0,\"ticks\":\"\"}}],\"contour\":[{\"type\":\"contour\",\"colorbar\":{\"outlinewidth\":0,\"ticks\":\"\"},\"colorscale\":[[0.0,\"#0d0887\"],[0.1111111111111111,\"#46039f\"],[0.2222222222222222,\"#7201a8\"],[0.3333333333333333,\"#9c179e\"],[0.4444444444444444,\"#bd3786\"],[0.5555555555555556,\"#d8576b\"],[0.6666666666666666,\"#ed7953\"],[0.7777777777777778,\"#fb9f3a\"],[0.8888888888888888,\"#fdca26\"],[1.0,\"#f0f921\"]]}],\"surface\":[{\"type\":\"surface\",\"colorbar\":{\"outlinewidth\":0,\"ticks\":\"\"},\"colorscale\":[[0.0,\"#0d0887\"],[0.1111111111111111,\"#46039f\"],[0.2222222222222222,\"#7201a8\"],[0.3333333333333333,\"#9c179e\"],[0.4444444444444444,\"#bd3786\"],[0.5555555555555556,\"#d8576b\"],[0.6666666666666666,\"#ed7953\"],[0.7777777777777778,\"#fb9f3a\"],[0.8888888888888888,\"#fdca26\"],[1.0,\"#f0f921\"]]}],\"mesh3d\":[{\"type\":\"mesh3d\",\"colorbar\":{\"outlinewidth\":0,\"ticks\":\"\"}}],\"scatter\":[{\"fillpattern\":{\"fillmode\":\"overlay\",\"size\":10,\"solidity\":0.2},\"type\":\"scatter\"}],\"parcoords\":[{\"type\":\"parcoords\",\"line\":{\"colorbar\":{\"outlinewidth\":0,\"ticks\":\"\"}}}],\"scatterpolargl\":[{\"type\":\"scatterpolargl\",\"marker\":{\"colorbar\":{\"outlinewidth\":0,\"ticks\":\"\"}}}],\"bar\":[{\"error_x\":{\"color\":\"#2a3f5f\"},\"error_y\":{\"color\":\"#2a3f5f\"},\"marker\":{\"line\":{\"color\":\"#E5ECF6\",\"width\":0.5},\"pattern\":{\"fillmode\":\"overlay\",\"size\":10,\"solidity\":0.2}},\"type\":\"bar\"}],\"scattergeo\":[{\"type\":\"scattergeo\",\"marker\":{\"colorbar\":{\"outlinewidth\":0,\"ticks\":\"\"}}}],\"scatterpolar\":[{\"type\":\"scatterpolar\",\"marker\":{\"colorbar\":{\"outlinewidth\":0,\"ticks\":\"\"}}}],\"histogram\":[{\"marker\":{\"pattern\":{\"fillmode\":\"overlay\",\"size\":10,\"solidity\":0.2}},\"type\":\"histogram\"}],\"scattergl\":[{\"type\":\"scattergl\",\"marker\":{\"colorbar\":{\"outlinewidth\":0,\"ticks\":\"\"}}}],\"scatter3d\":[{\"type\":\"scatter3d\",\"line\":{\"colorbar\":{\"outlinewidth\":0,\"ticks\":\"\"}},\"marker\":{\"colorbar\":{\"outlinewidth\":0,\"ticks\":\"\"}}}],\"scattermapbox\":[{\"type\":\"scattermapbox\",\"marker\":{\"colorbar\":{\"outlinewidth\":0,\"ticks\":\"\"}}}],\"scatterternary\":[{\"type\":\"scatterternary\",\"marker\":{\"colorbar\":{\"outlinewidth\":0,\"ticks\":\"\"}}}],\"scattercarpet\":[{\"type\":\"scattercarpet\",\"marker\":{\"colorbar\":{\"outlinewidth\":0,\"ticks\":\"\"}}}],\"carpet\":[{\"aaxis\":{\"endlinecolor\":\"#2a3f5f\",\"gridcolor\":\"white\",\"linecolor\":\"white\",\"minorgridcolor\":\"white\",\"startlinecolor\":\"#2a3f5f\"},\"baxis\":{\"endlinecolor\":\"#2a3f5f\",\"gridcolor\":\"white\",\"linecolor\":\"white\",\"minorgridcolor\":\"white\",\"startlinecolor\":\"#2a3f5f\"},\"type\":\"carpet\"}],\"table\":[{\"cells\":{\"fill\":{\"color\":\"#EBF0F8\"},\"line\":{\"color\":\"white\"}},\"header\":{\"fill\":{\"color\":\"#C8D4E3\"},\"line\":{\"color\":\"white\"}},\"type\":\"table\"}],\"barpolar\":[{\"marker\":{\"line\":{\"color\":\"#E5ECF6\",\"width\":0.5},\"pattern\":{\"fillmode\":\"overlay\",\"size\":10,\"solidity\":0.2}},\"type\":\"barpolar\"}],\"pie\":[{\"automargin\":true,\"type\":\"pie\"}]},\"layout\":{\"autotypenumbers\":\"strict\",\"colorway\":[\"#636efa\",\"#EF553B\",\"#00cc96\",\"#ab63fa\",\"#FFA15A\",\"#19d3f3\",\"#FF6692\",\"#B6E880\",\"#FF97FF\",\"#FECB52\"],\"font\":{\"color\":\"#2a3f5f\"},\"hovermode\":\"closest\",\"hoverlabel\":{\"align\":\"left\"},\"paper_bgcolor\":\"white\",\"plot_bgcolor\":\"#E5ECF6\",\"polar\":{\"bgcolor\":\"#E5ECF6\",\"angularaxis\":{\"gridcolor\":\"white\",\"linecolor\":\"white\",\"ticks\":\"\"},\"radialaxis\":{\"gridcolor\":\"white\",\"linecolor\":\"white\",\"ticks\":\"\"}},\"ternary\":{\"bgcolor\":\"#E5ECF6\",\"aaxis\":{\"gridcolor\":\"white\",\"linecolor\":\"white\",\"ticks\":\"\"},\"baxis\":{\"gridcolor\":\"white\",\"linecolor\":\"white\",\"ticks\":\"\"},\"caxis\":{\"gridcolor\":\"white\",\"linecolor\":\"white\",\"ticks\":\"\"}},\"coloraxis\":{\"colorbar\":{\"outlinewidth\":0,\"ticks\":\"\"}},\"colorscale\":{\"sequential\":[[0.0,\"#0d0887\"],[0.1111111111111111,\"#46039f\"],[0.2222222222222222,\"#7201a8\"],[0.3333333333333333,\"#9c179e\"],[0.4444444444444444,\"#bd3786\"],[0.5555555555555556,\"#d8576b\"],[0.6666666666666666,\"#ed7953\"],[0.7777777777777778,\"#fb9f3a\"],[0.8888888888888888,\"#fdca26\"],[1.0,\"#f0f921\"]],\"sequentialminus\":[[0.0,\"#0d0887\"],[0.1111111111111111,\"#46039f\"],[0.2222222222222222,\"#7201a8\"],[0.3333333333333333,\"#9c179e\"],[0.4444444444444444,\"#bd3786\"],[0.5555555555555556,\"#d8576b\"],[0.6666666666666666,\"#ed7953\"],[0.7777777777777778,\"#fb9f3a\"],[0.8888888888888888,\"#fdca26\"],[1.0,\"#f0f921\"]],\"diverging\":[[0,\"#8e0152\"],[0.1,\"#c51b7d\"],[0.2,\"#de77ae\"],[0.3,\"#f1b6da\"],[0.4,\"#fde0ef\"],[0.5,\"#f7f7f7\"],[0.6,\"#e6f5d0\"],[0.7,\"#b8e186\"],[0.8,\"#7fbc41\"],[0.9,\"#4d9221\"],[1,\"#276419\"]]},\"xaxis\":{\"gridcolor\":\"white\",\"linecolor\":\"white\",\"ticks\":\"\",\"title\":{\"standoff\":15},\"zerolinecolor\":\"white\",\"automargin\":true,\"zerolinewidth\":2},\"yaxis\":{\"gridcolor\":\"white\",\"linecolor\":\"white\",\"ticks\":\"\",\"title\":{\"standoff\":15},\"zerolinecolor\":\"white\",\"automargin\":true,\"zerolinewidth\":2},\"scene\":{\"xaxis\":{\"backgroundcolor\":\"#E5ECF6\",\"gridcolor\":\"white\",\"linecolor\":\"white\",\"showbackground\":true,\"ticks\":\"\",\"zerolinecolor\":\"white\",\"gridwidth\":2},\"yaxis\":{\"backgroundcolor\":\"#E5ECF6\",\"gridcolor\":\"white\",\"linecolor\":\"white\",\"showbackground\":true,\"ticks\":\"\",\"zerolinecolor\":\"white\",\"gridwidth\":2},\"zaxis\":{\"backgroundcolor\":\"#E5ECF6\",\"gridcolor\":\"white\",\"linecolor\":\"white\",\"showbackground\":true,\"ticks\":\"\",\"zerolinecolor\":\"white\",\"gridwidth\":2}},\"shapedefaults\":{\"line\":{\"color\":\"#2a3f5f\"}},\"annotationdefaults\":{\"arrowcolor\":\"#2a3f5f\",\"arrowhead\":0,\"arrowwidth\":1},\"geo\":{\"bgcolor\":\"white\",\"landcolor\":\"#E5ECF6\",\"subunitcolor\":\"white\",\"showland\":true,\"showlakes\":true,\"lakecolor\":\"white\"},\"title\":{\"x\":0.05},\"mapbox\":{\"style\":\"light\"}}},\"scene\":{\"xaxis\":{\"nticks\":4,\"range\":[-10,10],\"title\":{\"text\":\"X axis\"}},\"yaxis\":{\"nticks\":4,\"range\":[-10,10],\"title\":{\"text\":\"Y axis\"}},\"zaxis\":{\"nticks\":4,\"range\":[-10,10],\"title\":{\"text\":\"Z axis\"}},\"aspectmode\":\"cube\",\"camera\":{\"up\":{\"x\":0,\"y\":1,\"z\":0},\"eye\":{\"x\":1,\"y\":1,\"z\":1}}},\"margin\":{\"r\":20,\"b\":10,\"l\":10,\"t\":10},\"width\":700},                        {\"responsive\": true}                    ).then(function(){\n",
       "                            \n",
       "var gd = document.getElementById('0ed08e2b-9bf7-4961-8030-30d5a3e56aea');\n",
       "var x = new MutationObserver(function (mutations, observer) {{\n",
       "        var display = window.getComputedStyle(gd).display;\n",
       "        if (!display || display === 'none') {{\n",
       "            console.log([gd, 'removed!']);\n",
       "            Plotly.purge(gd);\n",
       "            observer.disconnect();\n",
       "        }}\n",
       "}});\n",
       "\n",
       "// Listen for the removal of the full notebook cells\n",
       "var notebookContainer = gd.closest('#notebook-container');\n",
       "if (notebookContainer) {{\n",
       "    x.observe(notebookContainer, {childList: true});\n",
       "}}\n",
       "\n",
       "// Listen for the clearing of the current output cell\n",
       "var outputEl = gd.closest('.output');\n",
       "if (outputEl) {{\n",
       "    x.observe(outputEl, {childList: true});\n",
       "}}\n",
       "\n",
       "                        })                };                });            </script>        </div>"
      ]
     },
     "metadata": {},
     "output_type": "display_data"
    },
    {
     "data": {
      "application/vnd.plotly.v1+json": {
       "config": {
        "plotlyServerURL": "https://plot.ly"
       },
       "data": [
        {
         "line": {
          "color": "blue",
          "dash": "dash",
          "width": 5
         },
         "mode": "lines",
         "type": "scatter3d",
         "x": [
          2.7804689407348633,
          0.859489917755127
         ],
         "y": [
          -0.09807243943214417,
          -0.04934527352452278
         ],
         "z": [
          -6.3398027420043945,
          -6.901167869567871
         ]
        },
        {
         "line": {
          "color": "blue",
          "dash": "dash",
          "width": 5
         },
         "mode": "lines",
         "type": "scatter3d",
         "x": [
          4.783838748931885,
          2.7804689407348633
         ],
         "y": [
          -0.24737460911273956,
          -0.09807243943214417
         ],
         "z": [
          -4.924686908721924,
          -6.3398027420043945
         ]
        },
        {
         "line": {
          "color": "blue",
          "dash": "dash",
          "width": 5
         },
         "mode": "lines",
         "type": "scatter3d",
         "x": [
          6.266602039337158,
          4.783838748931885
         ],
         "y": [
          -0.47307735681533813,
          -0.24737460911273956
         ],
         "z": [
          -2.9434502124786377,
          -4.924686908721924
         ]
        },
        {
         "line": {
          "color": "blue",
          "dash": "dash",
          "width": 5
         },
         "mode": "lines",
         "type": "scatter3d",
         "x": [
          7.069118976593018,
          6.266602039337158
         ],
         "y": [
          -0.7015442252159119,
          -0.47307735681533813
         ],
         "z": [
          -0.7088972330093384,
          -2.9434502124786377
         ]
        },
        {
         "line": {
          "color": "blue",
          "dash": "dash",
          "width": 5
         },
         "mode": "lines",
         "type": "scatter3d",
         "x": [
          7.322258949279785,
          7.069118976593018
         ],
         "y": [
          -0.9469588994979858,
          -0.7015442252159119
         ],
         "z": [
          1.6605544090270996,
          -0.7088972330093384
         ]
        },
        {
         "line": {
          "color": "blue",
          "dash": "dash",
          "width": 5
         },
         "mode": "lines",
         "type": "scatter3d",
         "x": [
          6.937180042266846,
          7.322258949279785
         ],
         "y": [
          -1.2208137512207031,
          -0.9469588994979858
         ],
         "z": [
          4.047393798828125,
          1.6605544090270996
         ]
        },
        {
         "line": {
          "color": "blue",
          "dash": "dash",
          "width": 5
         },
         "mode": "lines",
         "type": "scatter3d",
         "x": [
          5.469638824462891,
          6.937180042266846
         ],
         "y": [
          -1.4176846742630005,
          -1.2208137512207031
         ],
         "z": [
          6.032253742218018,
          4.047393798828125
         ]
        },
        {
         "line": {
          "color": "blue",
          "dash": "dash",
          "width": 5
         },
         "mode": "lines",
         "type": "scatter3d",
         "x": [
          3.353532552719116,
          5.469638824462891
         ],
         "y": [
          -1.6096162796020508,
          -1.4176846742630005
         ],
         "z": [
          7.486783981323242,
          6.032253742218018
         ]
        },
        {
         "line": {
          "color": "blue",
          "dash": "dash",
          "width": 5
         },
         "mode": "lines",
         "type": "scatter3d",
         "x": [
          0.5851976871490479,
          3.353532552719116
         ],
         "y": [
          -1.6456806659698486,
          -1.6096162796020508
         ],
         "z": [
          7.925055503845215,
          7.486783981323242
         ]
        },
        {
         "line": {
          "color": "blue",
          "dash": "dash",
          "width": 5
         },
         "mode": "lines",
         "type": "scatter3d",
         "x": [
          -2.101924180984497,
          0.5851976871490479
         ],
         "y": [
          -1.622266411781311,
          -1.6456806659698486
         ],
         "z": [
          7.676974296569824,
          7.925055503845215
         ]
        },
        {
         "line": {
          "color": "blue",
          "dash": "dash",
          "width": 5
         },
         "mode": "lines",
         "type": "scatter3d",
         "x": [
          -4.445888519287109,
          -2.101924180984497
         ],
         "y": [
          -1.4384557008743286,
          -1.622266411781311
         ],
         "z": [
          6.338644027709961,
          7.676974296569824
         ]
        },
        {
         "line": {
          "color": "blue",
          "dash": "dash",
          "width": 5
         },
         "mode": "lines",
         "type": "scatter3d",
         "x": [
          -6.054685115814209,
          -4.445888519287109
         ],
         "y": [
          -1.2202117443084717,
          -1.4384557008743286
         ],
         "z": [
          4.244233131408691,
          6.338644027709961
         ]
        },
        {
         "line": {
          "color": "blue",
          "dash": "dash",
          "width": 5
         },
         "mode": "lines",
         "type": "scatter3d",
         "x": [
          -7.00773286819458,
          -6.054685115814209
         ],
         "y": [
          -0.9837038516998291,
          -1.2202117443084717
         ],
         "z": [
          1.8445534706115723,
          4.244233131408691
         ]
        },
        {
         "line": {
          "color": "blue",
          "dash": "dash",
          "width": 5
         },
         "mode": "lines",
         "type": "scatter3d",
         "x": [
          -6.844820499420166,
          -7.00773286819458
         ],
         "y": [
          -0.7509773969650269,
          -0.9837038516998291
         ],
         "z": [
          -0.5800008177757263,
          1.8445534706115723
         ]
        },
        {
         "line": {
          "color": "blue",
          "dash": "dash",
          "width": 5
         },
         "mode": "lines",
         "type": "scatter3d",
         "x": [
          -6.036434650421143,
          -6.844820499420166
         ],
         "y": [
          -0.5254479646682739,
          -0.7509773969650269
         ],
         "z": [
          -2.857203245162964,
          -0.5800008177757263
         ]
        },
        {
         "line": {
          "color": "blue",
          "dash": "dash",
          "width": 5
         },
         "mode": "lines",
         "type": "scatter3d",
         "x": [
          -4.364258766174316,
          -6.036434650421143
         ],
         "y": [
          -0.310177743434906,
          -0.5254479646682739
         ],
         "z": [
          -4.822831630706787,
          -2.857203245162964
         ]
        },
        {
         "line": {
          "color": "blue",
          "dash": "dash",
          "width": 5
         },
         "mode": "lines",
         "type": "scatter3d",
         "x": [
          -2.0537192821502686,
          -4.364258766174316
         ],
         "y": [
          -0.1770974099636078,
          -0.310177743434906
         ],
         "z": [
          -5.919167995452881,
          -4.822831630706787
         ]
        },
        {
         "line": {
          "color": "blue",
          "dash": "dash",
          "width": 5
         },
         "mode": "lines",
         "type": "scatter3d",
         "x": [
          0.37295955419540405,
          -2.0537192821502686
         ],
         "y": [
          -0.14393958449363708,
          -0.1770974099636078
         ],
         "z": [
          -6.114772796630859,
          -5.919167995452881
         ]
        },
        {
         "line": {
          "color": "blue",
          "dash": "dash",
          "width": 5
         },
         "mode": "lines",
         "type": "scatter3d",
         "x": [
          2.535250186920166,
          0.37295955419540405
         ],
         "y": [
          -0.17269408702850342,
          -0.14393958449363708
         ],
         "z": [
          -5.642230033874512,
          -6.114772796630859
         ]
        },
        {
         "line": {
          "color": "red",
          "width": 5
         },
         "mode": "lines",
         "name": "x",
         "type": "scatter3d",
         "x": [
          0.859489917755127,
          -0.136829674243927
         ],
         "y": [
          -0.04934527352452278,
          -0.06315871328115463
         ],
         "z": [
          -6.901167869567871,
          -6.9857635498046875
         ]
        },
        {
         "line": {
          "color": "green",
          "width": 5
         },
         "mode": "lines",
         "name": "y",
         "type": "scatter3d",
         "x": [
          0.859489917755127,
          0.8733221292495728
         ],
         "y": [
          -0.04934527352452278,
          -1.049249529838562
         ],
         "z": [
          -6.901167869567871,
          -6.900803565979004
         ]
        },
        {
         "line": {
          "color": "blue",
          "width": 5
         },
         "mode": "lines",
         "name": "z",
         "type": "scatter3d",
         "x": [
          0.859489917755127,
          0.7748975157737732
         ],
         "y": [
          -0.04934527352452278,
          -0.05015264451503754
         ],
         "z": [
          -6.901167869567871,
          -5.904752731323242
         ]
        },
        {
         "line": {
          "color": "red",
          "width": 5
         },
         "mode": "lines",
         "name": "x",
         "type": "scatter3d",
         "x": [
          2.7804689407348633,
          1.8552730083465576
         ],
         "y": [
          -0.09807243943214417,
          -0.03505227714776993
         ],
         "z": [
          -6.3398027420043945,
          -6.714023113250732
         ]
        },
        {
         "line": {
          "color": "green",
          "width": 5
         },
         "mode": "lines",
         "name": "y",
         "type": "scatter3d",
         "x": [
          2.7804689407348633,
          2.7018775939941406
         ],
         "y": [
          -0.09807243943214417,
          -1.0946276187896729
         ],
         "z": [
          -6.3398027420043945,
          -6.3133225440979
         ]
        },
        {
         "line": {
          "color": "blue",
          "width": 5
         },
         "mode": "lines",
         "name": "z",
         "type": "scatter3d",
         "x": [
          2.7804689407348633,
          2.4092063903808594
         ],
         "y": [
          -0.09807243943214417,
          -0.04416279122233391
         ],
         "z": [
          -6.3398027420043945,
          -5.412840843200684
         ]
        },
        {
         "line": {
          "color": "red",
          "width": 5
         },
         "mode": "lines",
         "name": "x",
         "type": "scatter3d",
         "x": [
          4.783838748931885,
          4.012866973876953
         ],
         "y": [
          -0.24737460911273956,
          -0.17940694093704224
         ],
         "z": [
          -4.924686908721924,
          -5.557918548583984
         ]
        },
        {
         "line": {
          "color": "green",
          "width": 5
         },
         "mode": "lines",
         "name": "y",
         "type": "scatter3d",
         "x": [
          4.783838748931885,
          4.689538478851318
         ],
         "y": [
          -0.24737460911273956,
          -1.2428865432739258
         ],
         "z": [
          -4.924686908721924,
          -4.916727542877197
         ]
        },
        {
         "line": {
          "color": "blue",
          "width": 5
         },
         "mode": "lines",
         "name": "z",
         "type": "scatter3d",
         "x": [
          4.783838748931885,
          4.153989791870117
         ],
         "y": [
          -0.24737460911273956,
          -0.18152417242527008
         ],
         "z": [
          -4.924686908721924,
          -4.150765895843506
         ]
        },
        {
         "line": {
          "color": "red",
          "width": 5
         },
         "mode": "lines",
         "name": "x",
         "type": "scatter3d",
         "x": [
          6.266602039337158,
          5.727451801300049
         ],
         "y": [
          -0.47307735681533813,
          -0.3849360942840576
         ],
         "z": [
          -2.9434502124786377,
          -3.7810349464416504
         ]
        },
        {
         "line": {
          "color": "green",
          "width": 5
         },
         "mode": "lines",
         "name": "y",
         "type": "scatter3d",
         "x": [
          6.266602039337158,
          6.134401321411133
         ],
         "y": [
          -0.47307735681533813,
          -1.4641144275665283
         ],
         "z": [
          -2.9434502124786377,
          -2.9626426696777344
         ]
        },
        {
         "line": {
          "color": "blue",
          "width": 5
         },
         "mode": "lines",
         "name": "z",
         "type": "scatter3d",
         "x": [
          6.266602039337158,
          5.43483304977417
         ],
         "y": [
          -0.47307735681533813,
          -0.3726958632469177
         ],
         "z": [
          -2.9434502124786377,
          -2.397480010986328
         ]
        },
        {
         "line": {
          "color": "red",
          "width": 5
         },
         "mode": "lines",
         "name": "x",
         "type": "scatter3d",
         "x": [
          7.069118976593018,
          6.829095840454102
         ],
         "y": [
          -0.7015442252159119,
          -0.641367495059967
         ],
         "z": [
          -0.7088972330093384,
          -1.6777974367141724
         ]
        },
        {
         "line": {
          "color": "green",
          "width": 5
         },
         "mode": "lines",
         "name": "y",
         "type": "scatter3d",
         "x": [
          7.069118976593018,
          6.914910793304443
         ],
         "y": [
          -0.7015442252159119,
          -1.6893115043640137
         ],
         "z": [
          -0.7088972330093384,
          -0.7320442199707031
         ]
        },
        {
         "line": {
          "color": "blue",
          "width": 5
         },
         "mode": "lines",
         "name": "z",
         "type": "scatter3d",
         "x": [
          7.069118976593018,
          6.110678195953369
         ],
         "y": [
          -0.7015442252159119,
          -0.5576878190040588
         ],
         "z": [
          -0.7088972330093384,
          -0.46253064274787903
         ]
        },
        {
         "line": {
          "color": "red",
          "width": 5
         },
         "mode": "lines",
         "name": "x",
         "type": "scatter3d",
         "x": [
          7.322258949279785,
          7.4578142166137695
         ],
         "y": [
          -0.9469588994979858,
          -0.8861573934555054
         ],
         "z": [
          1.6605544090270996,
          0.6716520190238953
         ]
        },
        {
         "line": {
          "color": "green",
          "width": 5
         },
         "mode": "lines",
         "name": "y",
         "type": "scatter3d",
         "x": [
          7.322258949279785,
          7.175517559051514
         ],
         "y": [
          -0.9469588994979858,
          -1.9328339099884033
         ],
         "z": [
          1.6605544090270996,
          1.5798242092132568
         ]
        },
        {
         "line": {
          "color": "blue",
          "width": 5
         },
         "mode": "lines",
         "name": "z",
         "type": "scatter3d",
         "x": [
          7.322258949279785,
          6.342416286468506
         ],
         "y": [
          -0.9469588994979858,
          -0.7909026145935059
         ],
         "z": [
          1.6605544090270996,
          1.5358359813690186
         ]
        },
        {
         "line": {
          "color": "red",
          "width": 5
         },
         "mode": "lines",
         "name": "x",
         "type": "scatter3d",
         "x": [
          6.937180042266846,
          7.403046131134033
         ],
         "y": [
          -1.2208137512207031,
          -1.129332423210144
         ],
         "z": [
          4.047393798828125,
          3.1672801971435547
         ]
        },
        {
         "line": {
          "color": "green",
          "width": 5
         },
         "mode": "lines",
         "name": "y",
         "type": "scatter3d",
         "x": [
          6.937180042266846,
          6.798041343688965
         ],
         "y": [
          -1.2208137512207031,
          -2.1955080032348633
         ],
         "z": [
          4.047393798828125,
          3.872431755065918
         ]
        },
        {
         "line": {
          "color": "blue",
          "width": 5
         },
         "mode": "lines",
         "name": "z",
         "type": "scatter3d",
         "x": [
          6.937180042266846,
          6.063333034515381
         ],
         "y": [
          -1.2208137512207031,
          -1.016847014427185
         ],
         "z": [
          4.047393798828125,
          3.6060452461242676
         ]
        },
        {
         "line": {
          "color": "red",
          "width": 5
         },
         "mode": "lines",
         "name": "x",
         "type": "scatter3d",
         "x": [
          5.469638824462891,
          6.223202228546143
         ],
         "y": [
          -1.4176846742630005,
          -1.3631178140640259
         ],
         "z": [
          6.032253742218018,
          5.377147197723389
         ]
        },
        {
         "line": {
          "color": "green",
          "width": 5
         },
         "mode": "lines",
         "name": "y",
         "type": "scatter3d",
         "x": [
          5.469638824462891,
          5.3631463050842285
         ],
         "y": [
          -1.4176846742630005,
          -2.390937328338623
         ],
         "z": [
          6.032253742218018,
          5.8286895751953125
         ]
        },
        {
         "line": {
          "color": "blue",
          "width": 5
         },
         "mode": "lines",
         "name": "z",
         "type": "scatter3d",
         "x": [
          5.469638824462891,
          4.82094669342041
         ],
         "y": [
          -1.4176846742630005,
          -1.1945221424102783
         ],
         "z": [
          6.032253742218018,
          5.304656982421875
         ]
        },
        {
         "line": {
          "color": "red",
          "width": 5
         },
         "mode": "lines",
         "name": "x",
         "type": "scatter3d",
         "x": [
          3.353532552719116,
          4.295904636383057
         ],
         "y": [
          -1.6096162796020508,
          -1.557747721672058
         ],
         "z": [
          7.486783981323242,
          7.1562628746032715
         ]
        },
        {
         "line": {
          "color": "green",
          "width": 5
         },
         "mode": "lines",
         "name": "y",
         "type": "scatter3d",
         "x": [
          3.353532552719116,
          3.3169057369232178
         ],
         "y": [
          -1.6096162796020508,
          -2.5755937099456787
         ],
         "z": [
          7.486783981323242,
          7.230763912200928
         ]
        },
        {
         "line": {
          "color": "blue",
          "width": 5
         },
         "mode": "lines",
         "name": "z",
         "type": "scatter3d",
         "x": [
          3.353532552719116,
          3.020977258682251
         ],
         "y": [
          -1.6096162796020508,
          -1.3562443256378174
         ],
         "z": [
          7.486783981323242,
          6.578373432159424
         ]
        },
        {
         "line": {
          "color": "red",
          "width": 5
         },
         "mode": "lines",
         "name": "x",
         "type": "scatter3d",
         "x": [
          0.5851976871490479,
          1.5836889743804932
         ],
         "y": [
          -1.6456806659698486,
          -1.6351090669631958
         ],
         "z": [
          7.925055503845215,
          7.871171474456787
         ]
        },
        {
         "line": {
          "color": "green",
          "width": 5
         },
         "mode": "lines",
         "name": "y",
         "type": "scatter3d",
         "x": [
          0.5851976871490479,
          0.5826915502548218
         ],
         "y": [
          -1.6456806659698486,
          -2.617177724838257
         ],
         "z": [
          7.925055503845215,
          7.688016891479492
         ]
        },
        {
         "line": {
          "color": "blue",
          "width": 5
         },
         "mode": "lines",
         "name": "z",
         "type": "scatter3d",
         "x": [
          0.5851976871490479,
          0.5303435921669006
         ],
         "y": [
          -1.6456806659698486,
          -1.4088648557662964
         ],
         "z": [
          7.925055503845215,
          6.955050468444824
         ]
        },
        {
         "line": {
          "color": "red",
          "width": 5
         },
         "mode": "lines",
         "name": "x",
         "type": "scatter3d",
         "x": [
          -2.101924180984497,
          -1.1360254287719727
         ],
         "y": [
          -1.622266411781311,
          -1.6048438549041748
         ],
         "z": [
          7.676974296569824,
          7.935307025909424
         ]
        },
        {
         "line": {
          "color": "green",
          "width": 5
         },
         "mode": "lines",
         "name": "y",
         "type": "scatter3d",
         "x": [
          -2.101924180984497,
          -2.0297727584838867
         ],
         "y": [
          -1.622266411781311,
          -2.598590135574341
         ],
         "z": [
          7.676974296569824,
          7.473047733306885
         ]
        },
        {
         "line": {
          "color": "blue",
          "width": 5
         },
         "mode": "lines",
         "name": "z",
         "type": "scatter3d",
         "x": [
          -2.101924180984497,
          -1.8532605171203613
         ],
         "y": [
          -1.622266411781311,
          -1.406654715538025
         ],
         "z": [
          7.676974296569824,
          6.732686996459961
         ]
        },
        {
         "line": {
          "color": "red",
          "width": 5
         },
         "mode": "lines",
         "name": "x",
         "type": "scatter3d",
         "x": [
          -4.445888519287109,
          -3.639089345932007
         ],
         "y": [
          -1.4384557008743286,
          -1.50065279006958
         ],
         "z": [
          6.338644027709961,
          6.926186561584473
         ]
        },
        {
         "line": {
          "color": "green",
          "width": 5
         },
         "mode": "lines",
         "name": "y",
         "type": "scatter3d",
         "x": [
          -4.445888519287109,
          -4.361143589019775
         ],
         "y": [
          -1.4384557008743286,
          -2.4104342460632324
         ],
         "z": [
          6.338644027709961,
          6.119380950927734
         ]
        },
        {
         "line": {
          "color": "blue",
          "width": 5
         },
         "mode": "lines",
         "name": "z",
         "type": "scatter3d",
         "x": [
          -4.445888519287109,
          -3.8611721992492676
         ],
         "y": [
          -1.4384557008743286,
          -1.2117631435394287
         ],
         "z": [
          6.338644027709961,
          5.559723377227783
         ]
        },
        {
         "line": {
          "color": "red",
          "width": 5
         },
         "mode": "lines",
         "name": "x",
         "type": "scatter3d",
         "x": [
          -6.054685115814209,
          -5.4351677894592285
         ],
         "y": [
          -1.2202117443084717,
          -1.2783833742141724
         ],
         "z": [
          4.244233131408691,
          5.027057647705078
         ]
        },
        {
         "line": {
          "color": "green",
          "width": 5
         },
         "mode": "lines",
         "name": "y",
         "type": "scatter3d",
         "x": [
          -6.054685115814209,
          -5.9364914894104
         ],
         "y": [
          -1.2202117443084717,
          -2.1991806030273438
         ],
         "z": [
          4.244233131408691,
          4.077949047088623
         ]
        },
        {
         "line": {
          "color": "blue",
          "width": 5
         },
         "mode": "lines",
         "name": "z",
         "type": "scatter3d",
         "x": [
          -6.054685115814209,
          -5.278651237487793
         ],
         "y": [
          -1.2202117443084717,
          -1.0246710777282715
         ],
         "z": [
          4.244233131408691,
          3.644620418548584
         ]
        },
        {
         "line": {
          "color": "red",
          "width": 5
         },
         "mode": "lines",
         "name": "x",
         "type": "scatter3d",
         "x": [
          -7.00773286819458,
          -6.710200309753418
         ],
         "y": [
          -0.9837038516998291,
          -1.1230963468551636
         ],
         "z": [
          1.8445534706115723,
          2.789034366607666
         ]
        },
        {
         "line": {
          "color": "green",
          "width": 5
         },
         "mode": "lines",
         "name": "y",
         "type": "scatter3d",
         "x": [
          -7.00773286819458,
          -6.907223701477051
         ],
         "y": [
          -0.9837038516998291,
          -1.9629168510437012
         ],
         "z": [
          1.8445534706115723,
          1.668372392654419
         ]
        },
        {
         "line": {
          "color": "blue",
          "width": 5
         },
         "mode": "lines",
         "name": "z",
         "type": "scatter3d",
         "x": [
          -7.00773286819458,
          -6.058326721191406
         ],
         "y": [
          -0.9837038516998291,
          -0.836355447769165
         ],
         "z": [
          1.8445534706115723,
          1.5672158002853394
         ]
        },
        {
         "line": {
          "color": "red",
          "width": 5
         },
         "mode": "lines",
         "name": "x",
         "type": "scatter3d",
         "x": [
          -6.844820499420166,
          -6.973714828491211
         ],
         "y": [
          -0.7509773969650269,
          -0.8621959686279297
         ],
         "z": [
          -0.5800008177757263,
          0.4054010510444641
         ]
        },
        {
         "line": {
          "color": "green",
          "width": 5
         },
         "mode": "lines",
         "name": "y",
         "type": "scatter3d",
         "x": [
          -6.844820499420166,
          -6.788985729217529
         ],
         "y": [
          -0.7509773969650269,
          -1.743905782699585
         ],
         "z": [
          -0.5800008177757263,
          -0.6847654581069946
         ]
        },
        {
         "line": {
          "color": "blue",
          "width": 5
         },
         "mode": "lines",
         "name": "z",
         "type": "scatter3d",
         "x": [
          -6.844820499420166,
          -5.854735374450684
         ],
         "y": [
          -0.7509773969650269,
          -0.7094613313674927
         ],
         "z": [
          -0.5800008177757263,
          -0.44580817222595215
         ]
        },
        {
         "line": {
          "color": "red",
          "width": 5
         },
         "mode": "lines",
         "name": "x",
         "type": "scatter3d",
         "x": [
          -6.036434650421143,
          -6.551602363586426
         ],
         "y": [
          -0.5254479646682739,
          -0.612027108669281
         ],
         "z": [
          -2.857203245162964,
          -2.00449800491333
         ]
        },
        {
         "line": {
          "color": "green",
          "width": 5
         },
         "mode": "lines",
         "name": "y",
         "type": "scatter3d",
         "x": [
          -6.036434650421143,
          -5.943146705627441
         ],
         "y": [
          -0.5254479646682739,
          -1.5200865268707275
         ],
         "z": [
          -2.857203245162964,
          -2.9018330574035645
         ]
        },
        {
         "line": {
          "color": "blue",
          "width": 5
         },
         "mode": "lines",
         "name": "z",
         "type": "scatter3d",
         "x": [
          -6.036434650421143,
          -5.184437274932861
         ],
         "y": [
          -0.5254479646682739,
          -0.4688926637172699
         ],
         "z": [
          -2.857203245162964,
          -2.3367204666137695
         ]
        },
        {
         "line": {
          "color": "red",
          "width": 5
         },
         "mode": "lines",
         "name": "x",
         "type": "scatter3d",
         "x": [
          -4.364258766174316,
          -5.159289360046387
         ],
         "y": [
          -0.310177743434906,
          -0.34741538763046265
         ],
         "z": [
          -4.822831630706787,
          -4.217406272888184
         ]
        },
        {
         "line": {
          "color": "green",
          "width": 5
         },
         "mode": "lines",
         "name": "y",
         "type": "scatter3d",
         "x": [
          -4.364258766174316,
          -4.3180460929870605
         ],
         "y": [
          -0.310177743434906,
          -1.3091089725494385
         ],
         "z": [
          -4.822831630706787,
          -4.823587417602539
         ]
        },
        {
         "line": {
          "color": "blue",
          "width": 5
         },
         "mode": "lines",
         "name": "z",
         "type": "scatter3d",
         "x": [
          -4.364258766174316,
          -3.7594521045684814
         ],
         "y": [
          -0.310177743434906,
          -0.2828002870082855
         ],
         "z": [
          -4.822831630706787,
          -4.02692985534668
         ]
        },
        {
         "line": {
          "color": "red",
          "width": 5
         },
         "mode": "lines",
         "name": "x",
         "type": "scatter3d",
         "x": [
          -2.0537192821502686,
          -3.0273265838623047
         ],
         "y": [
          -0.1770974099636078,
          -0.19167183339595795
         ],
         "z": [
          -5.919167995452881,
          -5.691404342651367
         ]
        },
        {
         "line": {
          "color": "green",
          "width": 5
         },
         "mode": "lines",
         "name": "y",
         "type": "scatter3d",
         "x": [
          -2.0537192821502686,
          -2.0279252529144287
         ],
         "y": [
          -0.1770974099636078,
          -1.1756891012191772
         ],
         "z": [
          -5.919167995452881,
          -5.872807025909424
         ]
        },
        {
         "line": {
          "color": "blue",
          "width": 5
         },
         "mode": "lines",
         "name": "z",
         "type": "scatter3d",
         "x": [
          -2.0537192821502686,
          -1.8269519805908203
         ],
         "y": [
          -0.1770974099636078,
          -0.1260852813720703
         ],
         "z": [
          -5.919167995452881,
          -4.9465556144714355
         ]
        },
        {
         "line": {
          "color": "red",
          "width": 5
         },
         "mode": "lines",
         "name": "x",
         "type": "scatter3d",
         "x": [
          0.37295955419540405,
          -0.6093423366546631
         ],
         "y": [
          -0.14393958449363708,
          -0.1257525086402893
         ],
         "z": [
          -6.114772796630859,
          -6.301192283630371
         ]
        },
        {
         "line": {
          "color": "green",
          "width": 5
         },
         "mode": "lines",
         "name": "y",
         "type": "scatter3d",
         "x": [
          0.37295955419540405,
          0.341312050819397
         ],
         "y": [
          -0.14393958449363708,
          -1.14102041721344
         ],
         "z": [
          -6.114772796630859,
          -6.045287132263184
         ]
        },
        {
         "line": {
          "color": "blue",
          "width": 5
         },
         "mode": "lines",
         "name": "z",
         "type": "scatter3d",
         "x": [
          0.37295955419540405,
          0.18834806978702545
         ],
         "y": [
          -0.14393958449363708,
          -0.06978420168161392
         ],
         "z": [
          -6.114772796630859,
          -5.134762763977051
         ]
        },
        {
         "line": {
          "color": "red",
          "width": 5
         },
         "mode": "lines",
         "name": "x",
         "type": "scatter3d",
         "x": [
          2.535250186920166,
          1.646254301071167
         ],
         "y": [
          -0.17269408702850342,
          -0.14042986929416656
         ],
         "z": [
          -5.642230033874512,
          -6.0990071296691895
         ]
        },
        {
         "line": {
          "color": "green",
          "width": 5
         },
         "mode": "lines",
         "name": "y",
         "type": "scatter3d",
         "x": [
          2.535250186920166,
          2.4540176391601562
         ],
         "y": [
          -0.17269408702850342,
          -1.1654994487762451
         ],
         "z": [
          -5.642230033874512,
          -5.554258823394775
         ]
        },
        {
         "line": {
          "color": "blue",
          "width": 5
         },
         "mode": "lines",
         "name": "z",
         "type": "scatter3d",
         "x": [
          2.535250186920166,
          2.084597587585449
         ],
         "y": [
          -0.17269408702850342,
          -0.05738270282745361
         ],
         "z": [
          -5.642230033874512,
          -4.757009506225586
         ]
        }
       ],
       "layout": {
        "height": 360,
        "margin": {
         "b": 10,
         "l": 10,
         "r": 20,
         "t": 10
        },
        "scene": {
         "aspectmode": "cube",
         "aspectratio": {
          "x": 1,
          "y": 1,
          "z": 1
         },
         "camera": {
          "center": {
           "x": 0,
           "y": 0,
           "z": 0
          },
          "eye": {
           "x": -0.48107651524653283,
           "y": -0.9097101364633648,
           "z": 0.9346660422563452
          },
          "projection": {
           "type": "perspective"
          },
          "up": {
           "x": 0.3344042135717604,
           "y": -0.7555727119375513,
           "z": -0.5632794146076943
          }
         },
         "xaxis": {
          "nticks": 4,
          "range": [
           -10,
           10
          ],
          "title": {
           "text": "X axis"
          },
          "type": "linear"
         },
         "yaxis": {
          "nticks": 4,
          "range": [
           -10,
           10
          ],
          "title": {
           "text": "Y axis"
          },
          "type": "linear"
         },
         "zaxis": {
          "nticks": 4,
          "range": [
           -10,
           10
          ],
          "title": {
           "text": "Z axis"
          },
          "type": "linear"
         }
        },
        "template": {
         "data": {
          "bar": [
           {
            "error_x": {
             "color": "#2a3f5f"
            },
            "error_y": {
             "color": "#2a3f5f"
            },
            "marker": {
             "line": {
              "color": "#E5ECF6",
              "width": 0.5
             },
             "pattern": {
              "fillmode": "overlay",
              "size": 10,
              "solidity": 0.2
             }
            },
            "type": "bar"
           }
          ],
          "barpolar": [
           {
            "marker": {
             "line": {
              "color": "#E5ECF6",
              "width": 0.5
             },
             "pattern": {
              "fillmode": "overlay",
              "size": 10,
              "solidity": 0.2
             }
            },
            "type": "barpolar"
           }
          ],
          "carpet": [
           {
            "aaxis": {
             "endlinecolor": "#2a3f5f",
             "gridcolor": "white",
             "linecolor": "white",
             "minorgridcolor": "white",
             "startlinecolor": "#2a3f5f"
            },
            "baxis": {
             "endlinecolor": "#2a3f5f",
             "gridcolor": "white",
             "linecolor": "white",
             "minorgridcolor": "white",
             "startlinecolor": "#2a3f5f"
            },
            "type": "carpet"
           }
          ],
          "choropleth": [
           {
            "colorbar": {
             "outlinewidth": 0,
             "ticks": ""
            },
            "type": "choropleth"
           }
          ],
          "contour": [
           {
            "colorbar": {
             "outlinewidth": 0,
             "ticks": ""
            },
            "colorscale": [
             [
              0,
              "#0d0887"
             ],
             [
              0.1111111111111111,
              "#46039f"
             ],
             [
              0.2222222222222222,
              "#7201a8"
             ],
             [
              0.3333333333333333,
              "#9c179e"
             ],
             [
              0.4444444444444444,
              "#bd3786"
             ],
             [
              0.5555555555555556,
              "#d8576b"
             ],
             [
              0.6666666666666666,
              "#ed7953"
             ],
             [
              0.7777777777777778,
              "#fb9f3a"
             ],
             [
              0.8888888888888888,
              "#fdca26"
             ],
             [
              1,
              "#f0f921"
             ]
            ],
            "type": "contour"
           }
          ],
          "contourcarpet": [
           {
            "colorbar": {
             "outlinewidth": 0,
             "ticks": ""
            },
            "type": "contourcarpet"
           }
          ],
          "heatmap": [
           {
            "colorbar": {
             "outlinewidth": 0,
             "ticks": ""
            },
            "colorscale": [
             [
              0,
              "#0d0887"
             ],
             [
              0.1111111111111111,
              "#46039f"
             ],
             [
              0.2222222222222222,
              "#7201a8"
             ],
             [
              0.3333333333333333,
              "#9c179e"
             ],
             [
              0.4444444444444444,
              "#bd3786"
             ],
             [
              0.5555555555555556,
              "#d8576b"
             ],
             [
              0.6666666666666666,
              "#ed7953"
             ],
             [
              0.7777777777777778,
              "#fb9f3a"
             ],
             [
              0.8888888888888888,
              "#fdca26"
             ],
             [
              1,
              "#f0f921"
             ]
            ],
            "type": "heatmap"
           }
          ],
          "heatmapgl": [
           {
            "colorbar": {
             "outlinewidth": 0,
             "ticks": ""
            },
            "colorscale": [
             [
              0,
              "#0d0887"
             ],
             [
              0.1111111111111111,
              "#46039f"
             ],
             [
              0.2222222222222222,
              "#7201a8"
             ],
             [
              0.3333333333333333,
              "#9c179e"
             ],
             [
              0.4444444444444444,
              "#bd3786"
             ],
             [
              0.5555555555555556,
              "#d8576b"
             ],
             [
              0.6666666666666666,
              "#ed7953"
             ],
             [
              0.7777777777777778,
              "#fb9f3a"
             ],
             [
              0.8888888888888888,
              "#fdca26"
             ],
             [
              1,
              "#f0f921"
             ]
            ],
            "type": "heatmapgl"
           }
          ],
          "histogram": [
           {
            "marker": {
             "pattern": {
              "fillmode": "overlay",
              "size": 10,
              "solidity": 0.2
             }
            },
            "type": "histogram"
           }
          ],
          "histogram2d": [
           {
            "colorbar": {
             "outlinewidth": 0,
             "ticks": ""
            },
            "colorscale": [
             [
              0,
              "#0d0887"
             ],
             [
              0.1111111111111111,
              "#46039f"
             ],
             [
              0.2222222222222222,
              "#7201a8"
             ],
             [
              0.3333333333333333,
              "#9c179e"
             ],
             [
              0.4444444444444444,
              "#bd3786"
             ],
             [
              0.5555555555555556,
              "#d8576b"
             ],
             [
              0.6666666666666666,
              "#ed7953"
             ],
             [
              0.7777777777777778,
              "#fb9f3a"
             ],
             [
              0.8888888888888888,
              "#fdca26"
             ],
             [
              1,
              "#f0f921"
             ]
            ],
            "type": "histogram2d"
           }
          ],
          "histogram2dcontour": [
           {
            "colorbar": {
             "outlinewidth": 0,
             "ticks": ""
            },
            "colorscale": [
             [
              0,
              "#0d0887"
             ],
             [
              0.1111111111111111,
              "#46039f"
             ],
             [
              0.2222222222222222,
              "#7201a8"
             ],
             [
              0.3333333333333333,
              "#9c179e"
             ],
             [
              0.4444444444444444,
              "#bd3786"
             ],
             [
              0.5555555555555556,
              "#d8576b"
             ],
             [
              0.6666666666666666,
              "#ed7953"
             ],
             [
              0.7777777777777778,
              "#fb9f3a"
             ],
             [
              0.8888888888888888,
              "#fdca26"
             ],
             [
              1,
              "#f0f921"
             ]
            ],
            "type": "histogram2dcontour"
           }
          ],
          "mesh3d": [
           {
            "colorbar": {
             "outlinewidth": 0,
             "ticks": ""
            },
            "type": "mesh3d"
           }
          ],
          "parcoords": [
           {
            "line": {
             "colorbar": {
              "outlinewidth": 0,
              "ticks": ""
             }
            },
            "type": "parcoords"
           }
          ],
          "pie": [
           {
            "automargin": true,
            "type": "pie"
           }
          ],
          "scatter": [
           {
            "fillpattern": {
             "fillmode": "overlay",
             "size": 10,
             "solidity": 0.2
            },
            "type": "scatter"
           }
          ],
          "scatter3d": [
           {
            "line": {
             "colorbar": {
              "outlinewidth": 0,
              "ticks": ""
             }
            },
            "marker": {
             "colorbar": {
              "outlinewidth": 0,
              "ticks": ""
             }
            },
            "type": "scatter3d"
           }
          ],
          "scattercarpet": [
           {
            "marker": {
             "colorbar": {
              "outlinewidth": 0,
              "ticks": ""
             }
            },
            "type": "scattercarpet"
           }
          ],
          "scattergeo": [
           {
            "marker": {
             "colorbar": {
              "outlinewidth": 0,
              "ticks": ""
             }
            },
            "type": "scattergeo"
           }
          ],
          "scattergl": [
           {
            "marker": {
             "colorbar": {
              "outlinewidth": 0,
              "ticks": ""
             }
            },
            "type": "scattergl"
           }
          ],
          "scattermapbox": [
           {
            "marker": {
             "colorbar": {
              "outlinewidth": 0,
              "ticks": ""
             }
            },
            "type": "scattermapbox"
           }
          ],
          "scatterpolar": [
           {
            "marker": {
             "colorbar": {
              "outlinewidth": 0,
              "ticks": ""
             }
            },
            "type": "scatterpolar"
           }
          ],
          "scatterpolargl": [
           {
            "marker": {
             "colorbar": {
              "outlinewidth": 0,
              "ticks": ""
             }
            },
            "type": "scatterpolargl"
           }
          ],
          "scatterternary": [
           {
            "marker": {
             "colorbar": {
              "outlinewidth": 0,
              "ticks": ""
             }
            },
            "type": "scatterternary"
           }
          ],
          "surface": [
           {
            "colorbar": {
             "outlinewidth": 0,
             "ticks": ""
            },
            "colorscale": [
             [
              0,
              "#0d0887"
             ],
             [
              0.1111111111111111,
              "#46039f"
             ],
             [
              0.2222222222222222,
              "#7201a8"
             ],
             [
              0.3333333333333333,
              "#9c179e"
             ],
             [
              0.4444444444444444,
              "#bd3786"
             ],
             [
              0.5555555555555556,
              "#d8576b"
             ],
             [
              0.6666666666666666,
              "#ed7953"
             ],
             [
              0.7777777777777778,
              "#fb9f3a"
             ],
             [
              0.8888888888888888,
              "#fdca26"
             ],
             [
              1,
              "#f0f921"
             ]
            ],
            "type": "surface"
           }
          ],
          "table": [
           {
            "cells": {
             "fill": {
              "color": "#EBF0F8"
             },
             "line": {
              "color": "white"
             }
            },
            "header": {
             "fill": {
              "color": "#C8D4E3"
             },
             "line": {
              "color": "white"
             }
            },
            "type": "table"
           }
          ]
         },
         "layout": {
          "annotationdefaults": {
           "arrowcolor": "#2a3f5f",
           "arrowhead": 0,
           "arrowwidth": 1
          },
          "autotypenumbers": "strict",
          "coloraxis": {
           "colorbar": {
            "outlinewidth": 0,
            "ticks": ""
           }
          },
          "colorscale": {
           "diverging": [
            [
             0,
             "#8e0152"
            ],
            [
             0.1,
             "#c51b7d"
            ],
            [
             0.2,
             "#de77ae"
            ],
            [
             0.3,
             "#f1b6da"
            ],
            [
             0.4,
             "#fde0ef"
            ],
            [
             0.5,
             "#f7f7f7"
            ],
            [
             0.6,
             "#e6f5d0"
            ],
            [
             0.7,
             "#b8e186"
            ],
            [
             0.8,
             "#7fbc41"
            ],
            [
             0.9,
             "#4d9221"
            ],
            [
             1,
             "#276419"
            ]
           ],
           "sequential": [
            [
             0,
             "#0d0887"
            ],
            [
             0.1111111111111111,
             "#46039f"
            ],
            [
             0.2222222222222222,
             "#7201a8"
            ],
            [
             0.3333333333333333,
             "#9c179e"
            ],
            [
             0.4444444444444444,
             "#bd3786"
            ],
            [
             0.5555555555555556,
             "#d8576b"
            ],
            [
             0.6666666666666666,
             "#ed7953"
            ],
            [
             0.7777777777777778,
             "#fb9f3a"
            ],
            [
             0.8888888888888888,
             "#fdca26"
            ],
            [
             1,
             "#f0f921"
            ]
           ],
           "sequentialminus": [
            [
             0,
             "#0d0887"
            ],
            [
             0.1111111111111111,
             "#46039f"
            ],
            [
             0.2222222222222222,
             "#7201a8"
            ],
            [
             0.3333333333333333,
             "#9c179e"
            ],
            [
             0.4444444444444444,
             "#bd3786"
            ],
            [
             0.5555555555555556,
             "#d8576b"
            ],
            [
             0.6666666666666666,
             "#ed7953"
            ],
            [
             0.7777777777777778,
             "#fb9f3a"
            ],
            [
             0.8888888888888888,
             "#fdca26"
            ],
            [
             1,
             "#f0f921"
            ]
           ]
          },
          "colorway": [
           "#636efa",
           "#EF553B",
           "#00cc96",
           "#ab63fa",
           "#FFA15A",
           "#19d3f3",
           "#FF6692",
           "#B6E880",
           "#FF97FF",
           "#FECB52"
          ],
          "font": {
           "color": "#2a3f5f"
          },
          "geo": {
           "bgcolor": "white",
           "lakecolor": "white",
           "landcolor": "#E5ECF6",
           "showlakes": true,
           "showland": true,
           "subunitcolor": "white"
          },
          "hoverlabel": {
           "align": "left"
          },
          "hovermode": "closest",
          "mapbox": {
           "style": "light"
          },
          "paper_bgcolor": "white",
          "plot_bgcolor": "#E5ECF6",
          "polar": {
           "angularaxis": {
            "gridcolor": "white",
            "linecolor": "white",
            "ticks": ""
           },
           "bgcolor": "#E5ECF6",
           "radialaxis": {
            "gridcolor": "white",
            "linecolor": "white",
            "ticks": ""
           }
          },
          "scene": {
           "xaxis": {
            "backgroundcolor": "#E5ECF6",
            "gridcolor": "white",
            "gridwidth": 2,
            "linecolor": "white",
            "showbackground": true,
            "ticks": "",
            "zerolinecolor": "white"
           },
           "yaxis": {
            "backgroundcolor": "#E5ECF6",
            "gridcolor": "white",
            "gridwidth": 2,
            "linecolor": "white",
            "showbackground": true,
            "ticks": "",
            "zerolinecolor": "white"
           },
           "zaxis": {
            "backgroundcolor": "#E5ECF6",
            "gridcolor": "white",
            "gridwidth": 2,
            "linecolor": "white",
            "showbackground": true,
            "ticks": "",
            "zerolinecolor": "white"
           }
          },
          "shapedefaults": {
           "line": {
            "color": "#2a3f5f"
           }
          },
          "ternary": {
           "aaxis": {
            "gridcolor": "white",
            "linecolor": "white",
            "ticks": ""
           },
           "baxis": {
            "gridcolor": "white",
            "linecolor": "white",
            "ticks": ""
           },
           "bgcolor": "#E5ECF6",
           "caxis": {
            "gridcolor": "white",
            "linecolor": "white",
            "ticks": ""
           }
          },
          "title": {
           "x": 0.05
          },
          "xaxis": {
           "automargin": true,
           "gridcolor": "white",
           "linecolor": "white",
           "ticks": "",
           "title": {
            "standoff": 15
           },
           "zerolinecolor": "white",
           "zerolinewidth": 2
          },
          "yaxis": {
           "automargin": true,
           "gridcolor": "white",
           "linecolor": "white",
           "ticks": "",
           "title": {
            "standoff": 15
           },
           "zerolinecolor": "white",
           "zerolinewidth": 2
          }
         }
        },
        "width": 700
       }
      },
      "image/png": "[encoded data removed]",
      "text/html": [
       "<div>                            <div id=\"857c7686-49f6-43e0-96c8-3663177b05ea\" class=\"plotly-graph-div\" style=\"height:525px; width:700px;\"></div>            <script type=\"text/javascript\">                require([\"plotly\"], function(Plotly) {                    window.PLOTLYENV=window.PLOTLYENV || {};                                    if (document.getElementById(\"857c7686-49f6-43e0-96c8-3663177b05ea\")) {                    Plotly.newPlot(                        \"857c7686-49f6-43e0-96c8-3663177b05ea\",                        [{\"line\":{\"color\":\"blue\",\"dash\":\"dash\",\"width\":5},\"mode\":\"lines\",\"x\":[2.7804689407348633,0.859489917755127],\"y\":[-0.09807243943214417,-0.04934527352452278],\"z\":[-6.3398027420043945,-6.901167869567871],\"type\":\"scatter3d\"},{\"line\":{\"color\":\"blue\",\"dash\":\"dash\",\"width\":5},\"mode\":\"lines\",\"x\":[4.783838748931885,2.7804689407348633],\"y\":[-0.24737460911273956,-0.09807243943214417],\"z\":[-4.924686908721924,-6.3398027420043945],\"type\":\"scatter3d\"},{\"line\":{\"color\":\"blue\",\"dash\":\"dash\",\"width\":5},\"mode\":\"lines\",\"x\":[6.266602039337158,4.783838748931885],\"y\":[-0.47307735681533813,-0.24737460911273956],\"z\":[-2.9434502124786377,-4.924686908721924],\"type\":\"scatter3d\"},{\"line\":{\"color\":\"blue\",\"dash\":\"dash\",\"width\":5},\"mode\":\"lines\",\"x\":[7.069118976593018,6.266602039337158],\"y\":[-0.7015442252159119,-0.47307735681533813],\"z\":[-0.7088972330093384,-2.9434502124786377],\"type\":\"scatter3d\"},{\"line\":{\"color\":\"blue\",\"dash\":\"dash\",\"width\":5},\"mode\":\"lines\",\"x\":[7.322258949279785,7.069118976593018],\"y\":[-0.9469588994979858,-0.7015442252159119],\"z\":[1.6605544090270996,-0.7088972330093384],\"type\":\"scatter3d\"},{\"line\":{\"color\":\"blue\",\"dash\":\"dash\",\"width\":5},\"mode\":\"lines\",\"x\":[6.937180042266846,7.322258949279785],\"y\":[-1.2208137512207031,-0.9469588994979858],\"z\":[4.047393798828125,1.6605544090270996],\"type\":\"scatter3d\"},{\"line\":{\"color\":\"blue\",\"dash\":\"dash\",\"width\":5},\"mode\":\"lines\",\"x\":[5.469638824462891,6.937180042266846],\"y\":[-1.4176846742630005,-1.2208137512207031],\"z\":[6.032253742218018,4.047393798828125],\"type\":\"scatter3d\"},{\"line\":{\"color\":\"blue\",\"dash\":\"dash\",\"width\":5},\"mode\":\"lines\",\"x\":[3.353532552719116,5.469638824462891],\"y\":[-1.6096162796020508,-1.4176846742630005],\"z\":[7.486783981323242,6.032253742218018],\"type\":\"scatter3d\"},{\"line\":{\"color\":\"blue\",\"dash\":\"dash\",\"width\":5},\"mode\":\"lines\",\"x\":[0.5851976871490479,3.353532552719116],\"y\":[-1.6456806659698486,-1.6096162796020508],\"z\":[7.925055503845215,7.486783981323242],\"type\":\"scatter3d\"},{\"line\":{\"color\":\"blue\",\"dash\":\"dash\",\"width\":5},\"mode\":\"lines\",\"x\":[-2.101924180984497,0.5851976871490479],\"y\":[-1.622266411781311,-1.6456806659698486],\"z\":[7.676974296569824,7.925055503845215],\"type\":\"scatter3d\"},{\"line\":{\"color\":\"blue\",\"dash\":\"dash\",\"width\":5},\"mode\":\"lines\",\"x\":[-4.445888519287109,-2.101924180984497],\"y\":[-1.4384557008743286,-1.622266411781311],\"z\":[6.338644027709961,7.676974296569824],\"type\":\"scatter3d\"},{\"line\":{\"color\":\"blue\",\"dash\":\"dash\",\"width\":5},\"mode\":\"lines\",\"x\":[-6.054685115814209,-4.445888519287109],\"y\":[-1.2202117443084717,-1.4384557008743286],\"z\":[4.244233131408691,6.338644027709961],\"type\":\"scatter3d\"},{\"line\":{\"color\":\"blue\",\"dash\":\"dash\",\"width\":5},\"mode\":\"lines\",\"x\":[-7.00773286819458,-6.054685115814209],\"y\":[-0.9837038516998291,-1.2202117443084717],\"z\":[1.8445534706115723,4.244233131408691],\"type\":\"scatter3d\"},{\"line\":{\"color\":\"blue\",\"dash\":\"dash\",\"width\":5},\"mode\":\"lines\",\"x\":[-6.844820499420166,-7.00773286819458],\"y\":[-0.7509773969650269,-0.9837038516998291],\"z\":[-0.5800008177757263,1.8445534706115723],\"type\":\"scatter3d\"},{\"line\":{\"color\":\"blue\",\"dash\":\"dash\",\"width\":5},\"mode\":\"lines\",\"x\":[-6.036434650421143,-6.844820499420166],\"y\":[-0.5254479646682739,-0.7509773969650269],\"z\":[-2.857203245162964,-0.5800008177757263],\"type\":\"scatter3d\"},{\"line\":{\"color\":\"blue\",\"dash\":\"dash\",\"width\":5},\"mode\":\"lines\",\"x\":[-4.364258766174316,-6.036434650421143],\"y\":[-0.310177743434906,-0.5254479646682739],\"z\":[-4.822831630706787,-2.857203245162964],\"type\":\"scatter3d\"},{\"line\":{\"color\":\"blue\",\"dash\":\"dash\",\"width\":5},\"mode\":\"lines\",\"x\":[-2.0537192821502686,-4.364258766174316],\"y\":[-0.1770974099636078,-0.310177743434906],\"z\":[-5.919167995452881,-4.822831630706787],\"type\":\"scatter3d\"},{\"line\":{\"color\":\"blue\",\"dash\":\"dash\",\"width\":5},\"mode\":\"lines\",\"x\":[0.37295955419540405,-2.0537192821502686],\"y\":[-0.14393958449363708,-0.1770974099636078],\"z\":[-6.114772796630859,-5.919167995452881],\"type\":\"scatter3d\"},{\"line\":{\"color\":\"blue\",\"dash\":\"dash\",\"width\":5},\"mode\":\"lines\",\"x\":[2.535250186920166,0.37295955419540405],\"y\":[-0.17269408702850342,-0.14393958449363708],\"z\":[-5.642230033874512,-6.114772796630859],\"type\":\"scatter3d\"},{\"line\":{\"color\":\"red\",\"width\":5},\"mode\":\"lines\",\"name\":\"x\",\"x\":[0.859489917755127,-0.136829674243927],\"y\":[-0.04934527352452278,-0.06315871328115463],\"z\":[-6.901167869567871,-6.9857635498046875],\"type\":\"scatter3d\"},{\"line\":{\"color\":\"green\",\"width\":5},\"mode\":\"lines\",\"name\":\"y\",\"x\":[0.859489917755127,0.8733221292495728],\"y\":[-0.04934527352452278,-1.049249529838562],\"z\":[-6.901167869567871,-6.900803565979004],\"type\":\"scatter3d\"},{\"line\":{\"color\":\"blue\",\"width\":5},\"mode\":\"lines\",\"name\":\"z\",\"x\":[0.859489917755127,0.7748975157737732],\"y\":[-0.04934527352452278,-0.05015264451503754],\"z\":[-6.901167869567871,-5.904752731323242],\"type\":\"scatter3d\"},{\"line\":{\"color\":\"red\",\"width\":5},\"mode\":\"lines\",\"name\":\"x\",\"x\":[2.7804689407348633,1.8552730083465576],\"y\":[-0.09807243943214417,-0.03505227714776993],\"z\":[-6.3398027420043945,-6.714023113250732],\"type\":\"scatter3d\"},{\"line\":{\"color\":\"green\",\"width\":5},\"mode\":\"lines\",\"name\":\"y\",\"x\":[2.7804689407348633,2.7018775939941406],\"y\":[-0.09807243943214417,-1.0946276187896729],\"z\":[-6.3398027420043945,-6.3133225440979],\"type\":\"scatter3d\"},{\"line\":{\"color\":\"blue\",\"width\":5},\"mode\":\"lines\",\"name\":\"z\",\"x\":[2.7804689407348633,2.4092063903808594],\"y\":[-0.09807243943214417,-0.04416279122233391],\"z\":[-6.3398027420043945,-5.412840843200684],\"type\":\"scatter3d\"},{\"line\":{\"color\":\"red\",\"width\":5},\"mode\":\"lines\",\"name\":\"x\",\"x\":[4.783838748931885,4.012866973876953],\"y\":[-0.24737460911273956,-0.17940694093704224],\"z\":[-4.924686908721924,-5.557918548583984],\"type\":\"scatter3d\"},{\"line\":{\"color\":\"green\",\"width\":5},\"mode\":\"lines\",\"name\":\"y\",\"x\":[4.783838748931885,4.689538478851318],\"y\":[-0.24737460911273956,-1.2428865432739258],\"z\":[-4.924686908721924,-4.916727542877197],\"type\":\"scatter3d\"},{\"line\":{\"color\":\"blue\",\"width\":5},\"mode\":\"lines\",\"name\":\"z\",\"x\":[4.783838748931885,4.153989791870117],\"y\":[-0.24737460911273956,-0.18152417242527008],\"z\":[-4.924686908721924,-4.150765895843506],\"type\":\"scatter3d\"},{\"line\":{\"color\":\"red\",\"width\":5},\"mode\":\"lines\",\"name\":\"x\",\"x\":[6.266602039337158,5.727451801300049],\"y\":[-0.47307735681533813,-0.3849360942840576],\"z\":[-2.9434502124786377,-3.7810349464416504],\"type\":\"scatter3d\"},{\"line\":{\"color\":\"green\",\"width\":5},\"mode\":\"lines\",\"name\":\"y\",\"x\":[6.266602039337158,6.134401321411133],\"y\":[-0.47307735681533813,-1.4641144275665283],\"z\":[-2.9434502124786377,-2.9626426696777344],\"type\":\"scatter3d\"},{\"line\":{\"color\":\"blue\",\"width\":5},\"mode\":\"lines\",\"name\":\"z\",\"x\":[6.266602039337158,5.43483304977417],\"y\":[-0.47307735681533813,-0.3726958632469177],\"z\":[-2.9434502124786377,-2.397480010986328],\"type\":\"scatter3d\"},{\"line\":{\"color\":\"red\",\"width\":5},\"mode\":\"lines\",\"name\":\"x\",\"x\":[7.069118976593018,6.829095840454102],\"y\":[-0.7015442252159119,-0.641367495059967],\"z\":[-0.7088972330093384,-1.6777974367141724],\"type\":\"scatter3d\"},{\"line\":{\"color\":\"green\",\"width\":5},\"mode\":\"lines\",\"name\":\"y\",\"x\":[7.069118976593018,6.914910793304443],\"y\":[-0.7015442252159119,-1.6893115043640137],\"z\":[-0.7088972330093384,-0.7320442199707031],\"type\":\"scatter3d\"},{\"line\":{\"color\":\"blue\",\"width\":5},\"mode\":\"lines\",\"name\":\"z\",\"x\":[7.069118976593018,6.110678195953369],\"y\":[-0.7015442252159119,-0.5576878190040588],\"z\":[-0.7088972330093384,-0.46253064274787903],\"type\":\"scatter3d\"},{\"line\":{\"color\":\"red\",\"width\":5},\"mode\":\"lines\",\"name\":\"x\",\"x\":[7.322258949279785,7.4578142166137695],\"y\":[-0.9469588994979858,-0.8861573934555054],\"z\":[1.6605544090270996,0.6716520190238953],\"type\":\"scatter3d\"},{\"line\":{\"color\":\"green\",\"width\":5},\"mode\":\"lines\",\"name\":\"y\",\"x\":[7.322258949279785,7.175517559051514],\"y\":[-0.9469588994979858,-1.9328339099884033],\"z\":[1.6605544090270996,1.5798242092132568],\"type\":\"scatter3d\"},{\"line\":{\"color\":\"blue\",\"width\":5},\"mode\":\"lines\",\"name\":\"z\",\"x\":[7.322258949279785,6.342416286468506],\"y\":[-0.9469588994979858,-0.7909026145935059],\"z\":[1.6605544090270996,1.5358359813690186],\"type\":\"scatter3d\"},{\"line\":{\"color\":\"red\",\"width\":5},\"mode\":\"lines\",\"name\":\"x\",\"x\":[6.937180042266846,7.403046131134033],\"y\":[-1.2208137512207031,-1.129332423210144],\"z\":[4.047393798828125,3.1672801971435547],\"type\":\"scatter3d\"},{\"line\":{\"color\":\"green\",\"width\":5},\"mode\":\"lines\",\"name\":\"y\",\"x\":[6.937180042266846,6.798041343688965],\"y\":[-1.2208137512207031,-2.1955080032348633],\"z\":[4.047393798828125,3.872431755065918],\"type\":\"scatter3d\"},{\"line\":{\"color\":\"blue\",\"width\":5},\"mode\":\"lines\",\"name\":\"z\",\"x\":[6.937180042266846,6.063333034515381],\"y\":[-1.2208137512207031,-1.016847014427185],\"z\":[4.047393798828125,3.6060452461242676],\"type\":\"scatter3d\"},{\"line\":{\"color\":\"red\",\"width\":5},\"mode\":\"lines\",\"name\":\"x\",\"x\":[5.469638824462891,6.223202228546143],\"y\":[-1.4176846742630005,-1.3631178140640259],\"z\":[6.032253742218018,5.377147197723389],\"type\":\"scatter3d\"},{\"line\":{\"color\":\"green\",\"width\":5},\"mode\":\"lines\",\"name\":\"y\",\"x\":[5.469638824462891,5.3631463050842285],\"y\":[-1.4176846742630005,-2.390937328338623],\"z\":[6.032253742218018,5.8286895751953125],\"type\":\"scatter3d\"},{\"line\":{\"color\":\"blue\",\"width\":5},\"mode\":\"lines\",\"name\":\"z\",\"x\":[5.469638824462891,4.82094669342041],\"y\":[-1.4176846742630005,-1.1945221424102783],\"z\":[6.032253742218018,5.304656982421875],\"type\":\"scatter3d\"},{\"line\":{\"color\":\"red\",\"width\":5},\"mode\":\"lines\",\"name\":\"x\",\"x\":[3.353532552719116,4.295904636383057],\"y\":[-1.6096162796020508,-1.557747721672058],\"z\":[7.486783981323242,7.1562628746032715],\"type\":\"scatter3d\"},{\"line\":{\"color\":\"green\",\"width\":5},\"mode\":\"lines\",\"name\":\"y\",\"x\":[3.353532552719116,3.3169057369232178],\"y\":[-1.6096162796020508,-2.5755937099456787],\"z\":[7.486783981323242,7.230763912200928],\"type\":\"scatter3d\"},{\"line\":{\"color\":\"blue\",\"width\":5},\"mode\":\"lines\",\"name\":\"z\",\"x\":[3.353532552719116,3.020977258682251],\"y\":[-1.6096162796020508,-1.3562443256378174],\"z\":[7.486783981323242,6.578373432159424],\"type\":\"scatter3d\"},{\"line\":{\"color\":\"red\",\"width\":5},\"mode\":\"lines\",\"name\":\"x\",\"x\":[0.5851976871490479,1.5836889743804932],\"y\":[-1.6456806659698486,-1.6351090669631958],\"z\":[7.925055503845215,7.871171474456787],\"type\":\"scatter3d\"},{\"line\":{\"color\":\"green\",\"width\":5},\"mode\":\"lines\",\"name\":\"y\",\"x\":[0.5851976871490479,0.5826915502548218],\"y\":[-1.6456806659698486,-2.617177724838257],\"z\":[7.925055503845215,7.688016891479492],\"type\":\"scatter3d\"},{\"line\":{\"color\":\"blue\",\"width\":5},\"mode\":\"lines\",\"name\":\"z\",\"x\":[0.5851976871490479,0.5303435921669006],\"y\":[-1.6456806659698486,-1.4088648557662964],\"z\":[7.925055503845215,6.955050468444824],\"type\":\"scatter3d\"},{\"line\":{\"color\":\"red\",\"width\":5},\"mode\":\"lines\",\"name\":\"x\",\"x\":[-2.101924180984497,-1.1360254287719727],\"y\":[-1.622266411781311,-1.6048438549041748],\"z\":[7.676974296569824,7.935307025909424],\"type\":\"scatter3d\"},{\"line\":{\"color\":\"green\",\"width\":5},\"mode\":\"lines\",\"name\":\"y\",\"x\":[-2.101924180984497,-2.0297727584838867],\"y\":[-1.622266411781311,-2.598590135574341],\"z\":[7.676974296569824,7.473047733306885],\"type\":\"scatter3d\"},{\"line\":{\"color\":\"blue\",\"width\":5},\"mode\":\"lines\",\"name\":\"z\",\"x\":[-2.101924180984497,-1.8532605171203613],\"y\":[-1.622266411781311,-1.406654715538025],\"z\":[7.676974296569824,6.732686996459961],\"type\":\"scatter3d\"},{\"line\":{\"color\":\"red\",\"width\":5},\"mode\":\"lines\",\"name\":\"x\",\"x\":[-4.445888519287109,-3.639089345932007],\"y\":[-1.4384557008743286,-1.50065279006958],\"z\":[6.338644027709961,6.926186561584473],\"type\":\"scatter3d\"},{\"line\":{\"color\":\"green\",\"width\":5},\"mode\":\"lines\",\"name\":\"y\",\"x\":[-4.445888519287109,-4.361143589019775],\"y\":[-1.4384557008743286,-2.4104342460632324],\"z\":[6.338644027709961,6.119380950927734],\"type\":\"scatter3d\"},{\"line\":{\"color\":\"blue\",\"width\":5},\"mode\":\"lines\",\"name\":\"z\",\"x\":[-4.445888519287109,-3.8611721992492676],\"y\":[-1.4384557008743286,-1.2117631435394287],\"z\":[6.338644027709961,5.559723377227783],\"type\":\"scatter3d\"},{\"line\":{\"color\":\"red\",\"width\":5},\"mode\":\"lines\",\"name\":\"x\",\"x\":[-6.054685115814209,-5.4351677894592285],\"y\":[-1.2202117443084717,-1.2783833742141724],\"z\":[4.244233131408691,5.027057647705078],\"type\":\"scatter3d\"},{\"line\":{\"color\":\"green\",\"width\":5},\"mode\":\"lines\",\"name\":\"y\",\"x\":[-6.054685115814209,-5.9364914894104],\"y\":[-1.2202117443084717,-2.1991806030273438],\"z\":[4.244233131408691,4.077949047088623],\"type\":\"scatter3d\"},{\"line\":{\"color\":\"blue\",\"width\":5},\"mode\":\"lines\",\"name\":\"z\",\"x\":[-6.054685115814209,-5.278651237487793],\"y\":[-1.2202117443084717,-1.0246710777282715],\"z\":[4.244233131408691,3.644620418548584],\"type\":\"scatter3d\"},{\"line\":{\"color\":\"red\",\"width\":5},\"mode\":\"lines\",\"name\":\"x\",\"x\":[-7.00773286819458,-6.710200309753418],\"y\":[-0.9837038516998291,-1.1230963468551636],\"z\":[1.8445534706115723,2.789034366607666],\"type\":\"scatter3d\"},{\"line\":{\"color\":\"green\",\"width\":5},\"mode\":\"lines\",\"name\":\"y\",\"x\":[-7.00773286819458,-6.907223701477051],\"y\":[-0.9837038516998291,-1.9629168510437012],\"z\":[1.8445534706115723,1.668372392654419],\"type\":\"scatter3d\"},{\"line\":{\"color\":\"blue\",\"width\":5},\"mode\":\"lines\",\"name\":\"z\",\"x\":[-7.00773286819458,-6.058326721191406],\"y\":[-0.9837038516998291,-0.836355447769165],\"z\":[1.8445534706115723,1.5672158002853394],\"type\":\"scatter3d\"},{\"line\":{\"color\":\"red\",\"width\":5},\"mode\":\"lines\",\"name\":\"x\",\"x\":[-6.844820499420166,-6.973714828491211],\"y\":[-0.7509773969650269,-0.8621959686279297],\"z\":[-0.5800008177757263,0.4054010510444641],\"type\":\"scatter3d\"},{\"line\":{\"color\":\"green\",\"width\":5},\"mode\":\"lines\",\"name\":\"y\",\"x\":[-6.844820499420166,-6.788985729217529],\"y\":[-0.7509773969650269,-1.743905782699585],\"z\":[-0.5800008177757263,-0.6847654581069946],\"type\":\"scatter3d\"},{\"line\":{\"color\":\"blue\",\"width\":5},\"mode\":\"lines\",\"name\":\"z\",\"x\":[-6.844820499420166,-5.854735374450684],\"y\":[-0.7509773969650269,-0.7094613313674927],\"z\":[-0.5800008177757263,-0.44580817222595215],\"type\":\"scatter3d\"},{\"line\":{\"color\":\"red\",\"width\":5},\"mode\":\"lines\",\"name\":\"x\",\"x\":[-6.036434650421143,-6.551602363586426],\"y\":[-0.5254479646682739,-0.612027108669281],\"z\":[-2.857203245162964,-2.00449800491333],\"type\":\"scatter3d\"},{\"line\":{\"color\":\"green\",\"width\":5},\"mode\":\"lines\",\"name\":\"y\",\"x\":[-6.036434650421143,-5.943146705627441],\"y\":[-0.5254479646682739,-1.5200865268707275],\"z\":[-2.857203245162964,-2.9018330574035645],\"type\":\"scatter3d\"},{\"line\":{\"color\":\"blue\",\"width\":5},\"mode\":\"lines\",\"name\":\"z\",\"x\":[-6.036434650421143,-5.184437274932861],\"y\":[-0.5254479646682739,-0.4688926637172699],\"z\":[-2.857203245162964,-2.3367204666137695],\"type\":\"scatter3d\"},{\"line\":{\"color\":\"red\",\"width\":5},\"mode\":\"lines\",\"name\":\"x\",\"x\":[-4.364258766174316,-5.159289360046387],\"y\":[-0.310177743434906,-0.34741538763046265],\"z\":[-4.822831630706787,-4.217406272888184],\"type\":\"scatter3d\"},{\"line\":{\"color\":\"green\",\"width\":5},\"mode\":\"lines\",\"name\":\"y\",\"x\":[-4.364258766174316,-4.3180460929870605],\"y\":[-0.310177743434906,-1.3091089725494385],\"z\":[-4.822831630706787,-4.823587417602539],\"type\":\"scatter3d\"},{\"line\":{\"color\":\"blue\",\"width\":5},\"mode\":\"lines\",\"name\":\"z\",\"x\":[-4.364258766174316,-3.7594521045684814],\"y\":[-0.310177743434906,-0.2828002870082855],\"z\":[-4.822831630706787,-4.02692985534668],\"type\":\"scatter3d\"},{\"line\":{\"color\":\"red\",\"width\":5},\"mode\":\"lines\",\"name\":\"x\",\"x\":[-2.0537192821502686,-3.0273265838623047],\"y\":[-0.1770974099636078,-0.19167183339595795],\"z\":[-5.919167995452881,-5.691404342651367],\"type\":\"scatter3d\"},{\"line\":{\"color\":\"green\",\"width\":5},\"mode\":\"lines\",\"name\":\"y\",\"x\":[-2.0537192821502686,-2.0279252529144287],\"y\":[-0.1770974099636078,-1.1756891012191772],\"z\":[-5.919167995452881,-5.872807025909424],\"type\":\"scatter3d\"},{\"line\":{\"color\":\"blue\",\"width\":5},\"mode\":\"lines\",\"name\":\"z\",\"x\":[-2.0537192821502686,-1.8269519805908203],\"y\":[-0.1770974099636078,-0.1260852813720703],\"z\":[-5.919167995452881,-4.9465556144714355],\"type\":\"scatter3d\"},{\"line\":{\"color\":\"red\",\"width\":5},\"mode\":\"lines\",\"name\":\"x\",\"x\":[0.37295955419540405,-0.6093423366546631],\"y\":[-0.14393958449363708,-0.1257525086402893],\"z\":[-6.114772796630859,-6.301192283630371],\"type\":\"scatter3d\"},{\"line\":{\"color\":\"green\",\"width\":5},\"mode\":\"lines\",\"name\":\"y\",\"x\":[0.37295955419540405,0.341312050819397],\"y\":[-0.14393958449363708,-1.14102041721344],\"z\":[-6.114772796630859,-6.045287132263184],\"type\":\"scatter3d\"},{\"line\":{\"color\":\"blue\",\"width\":5},\"mode\":\"lines\",\"name\":\"z\",\"x\":[0.37295955419540405,0.18834806978702545],\"y\":[-0.14393958449363708,-0.06978420168161392],\"z\":[-6.114772796630859,-5.134762763977051],\"type\":\"scatter3d\"},{\"line\":{\"color\":\"red\",\"width\":5},\"mode\":\"lines\",\"name\":\"x\",\"x\":[2.535250186920166,1.646254301071167],\"y\":[-0.17269408702850342,-0.14042986929416656],\"z\":[-5.642230033874512,-6.0990071296691895],\"type\":\"scatter3d\"},{\"line\":{\"color\":\"green\",\"width\":5},\"mode\":\"lines\",\"name\":\"y\",\"x\":[2.535250186920166,2.4540176391601562],\"y\":[-0.17269408702850342,-1.1654994487762451],\"z\":[-5.642230033874512,-5.554258823394775],\"type\":\"scatter3d\"},{\"line\":{\"color\":\"blue\",\"width\":5},\"mode\":\"lines\",\"name\":\"z\",\"x\":[2.535250186920166,2.084597587585449],\"y\":[-0.17269408702850342,-0.05738270282745361],\"z\":[-5.642230033874512,-4.757009506225586],\"type\":\"scatter3d\"}],                        {\"template\":{\"data\":{\"histogram2dcontour\":[{\"type\":\"histogram2dcontour\",\"colorbar\":{\"outlinewidth\":0,\"ticks\":\"\"},\"colorscale\":[[0.0,\"#0d0887\"],[0.1111111111111111,\"#46039f\"],[0.2222222222222222,\"#7201a8\"],[0.3333333333333333,\"#9c179e\"],[0.4444444444444444,\"#bd3786\"],[0.5555555555555556,\"#d8576b\"],[0.6666666666666666,\"#ed7953\"],[0.7777777777777778,\"#fb9f3a\"],[0.8888888888888888,\"#fdca26\"],[1.0,\"#f0f921\"]]}],\"choropleth\":[{\"type\":\"choropleth\",\"colorbar\":{\"outlinewidth\":0,\"ticks\":\"\"}}],\"histogram2d\":[{\"type\":\"histogram2d\",\"colorbar\":{\"outlinewidth\":0,\"ticks\":\"\"},\"colorscale\":[[0.0,\"#0d0887\"],[0.1111111111111111,\"#46039f\"],[0.2222222222222222,\"#7201a8\"],[0.3333333333333333,\"#9c179e\"],[0.4444444444444444,\"#bd3786\"],[0.5555555555555556,\"#d8576b\"],[0.6666666666666666,\"#ed7953\"],[0.7777777777777778,\"#fb9f3a\"],[0.8888888888888888,\"#fdca26\"],[1.0,\"#f0f921\"]]}],\"heatmap\":[{\"type\":\"heatmap\",\"colorbar\":{\"outlinewidth\":0,\"ticks\":\"\"},\"colorscale\":[[0.0,\"#0d0887\"],[0.1111111111111111,\"#46039f\"],[0.2222222222222222,\"#7201a8\"],[0.3333333333333333,\"#9c179e\"],[0.4444444444444444,\"#bd3786\"],[0.5555555555555556,\"#d8576b\"],[0.6666666666666666,\"#ed7953\"],[0.7777777777777778,\"#fb9f3a\"],[0.8888888888888888,\"#fdca26\"],[1.0,\"#f0f921\"]]}],\"heatmapgl\":[{\"type\":\"heatmapgl\",\"colorbar\":{\"outlinewidth\":0,\"ticks\":\"\"},\"colorscale\":[[0.0,\"#0d0887\"],[0.1111111111111111,\"#46039f\"],[0.2222222222222222,\"#7201a8\"],[0.3333333333333333,\"#9c179e\"],[0.4444444444444444,\"#bd3786\"],[0.5555555555555556,\"#d8576b\"],[0.6666666666666666,\"#ed7953\"],[0.7777777777777778,\"#fb9f3a\"],[0.8888888888888888,\"#fdca26\"],[1.0,\"#f0f921\"]]}],\"contourcarpet\":[{\"type\":\"contourcarpet\",\"colorbar\":{\"outlinewidth\":0,\"ticks\":\"\"}}],\"contour\":[{\"type\":\"contour\",\"colorbar\":{\"outlinewidth\":0,\"ticks\":\"\"},\"colorscale\":[[0.0,\"#0d0887\"],[0.1111111111111111,\"#46039f\"],[0.2222222222222222,\"#7201a8\"],[0.3333333333333333,\"#9c179e\"],[0.4444444444444444,\"#bd3786\"],[0.5555555555555556,\"#d8576b\"],[0.6666666666666666,\"#ed7953\"],[0.7777777777777778,\"#fb9f3a\"],[0.8888888888888888,\"#fdca26\"],[1.0,\"#f0f921\"]]}],\"surface\":[{\"type\":\"surface\",\"colorbar\":{\"outlinewidth\":0,\"ticks\":\"\"},\"colorscale\":[[0.0,\"#0d0887\"],[0.1111111111111111,\"#46039f\"],[0.2222222222222222,\"#7201a8\"],[0.3333333333333333,\"#9c179e\"],[0.4444444444444444,\"#bd3786\"],[0.5555555555555556,\"#d8576b\"],[0.6666666666666666,\"#ed7953\"],[0.7777777777777778,\"#fb9f3a\"],[0.8888888888888888,\"#fdca26\"],[1.0,\"#f0f921\"]]}],\"mesh3d\":[{\"type\":\"mesh3d\",\"colorbar\":{\"outlinewidth\":0,\"ticks\":\"\"}}],\"scatter\":[{\"fillpattern\":{\"fillmode\":\"overlay\",\"size\":10,\"solidity\":0.2},\"type\":\"scatter\"}],\"parcoords\":[{\"type\":\"parcoords\",\"line\":{\"colorbar\":{\"outlinewidth\":0,\"ticks\":\"\"}}}],\"scatterpolargl\":[{\"type\":\"scatterpolargl\",\"marker\":{\"colorbar\":{\"outlinewidth\":0,\"ticks\":\"\"}}}],\"bar\":[{\"error_x\":{\"color\":\"#2a3f5f\"},\"error_y\":{\"color\":\"#2a3f5f\"},\"marker\":{\"line\":{\"color\":\"#E5ECF6\",\"width\":0.5},\"pattern\":{\"fillmode\":\"overlay\",\"size\":10,\"solidity\":0.2}},\"type\":\"bar\"}],\"scattergeo\":[{\"type\":\"scattergeo\",\"marker\":{\"colorbar\":{\"outlinewidth\":0,\"ticks\":\"\"}}}],\"scatterpolar\":[{\"type\":\"scatterpolar\",\"marker\":{\"colorbar\":{\"outlinewidth\":0,\"ticks\":\"\"}}}],\"histogram\":[{\"marker\":{\"pattern\":{\"fillmode\":\"overlay\",\"size\":10,\"solidity\":0.2}},\"type\":\"histogram\"}],\"scattergl\":[{\"type\":\"scattergl\",\"marker\":{\"colorbar\":{\"outlinewidth\":0,\"ticks\":\"\"}}}],\"scatter3d\":[{\"type\":\"scatter3d\",\"line\":{\"colorbar\":{\"outlinewidth\":0,\"ticks\":\"\"}},\"marker\":{\"colorbar\":{\"outlinewidth\":0,\"ticks\":\"\"}}}],\"scattermapbox\":[{\"type\":\"scattermapbox\",\"marker\":{\"colorbar\":{\"outlinewidth\":0,\"ticks\":\"\"}}}],\"scatterternary\":[{\"type\":\"scatterternary\",\"marker\":{\"colorbar\":{\"outlinewidth\":0,\"ticks\":\"\"}}}],\"scattercarpet\":[{\"type\":\"scattercarpet\",\"marker\":{\"colorbar\":{\"outlinewidth\":0,\"ticks\":\"\"}}}],\"carpet\":[{\"aaxis\":{\"endlinecolor\":\"#2a3f5f\",\"gridcolor\":\"white\",\"linecolor\":\"white\",\"minorgridcolor\":\"white\",\"startlinecolor\":\"#2a3f5f\"},\"baxis\":{\"endlinecolor\":\"#2a3f5f\",\"gridcolor\":\"white\",\"linecolor\":\"white\",\"minorgridcolor\":\"white\",\"startlinecolor\":\"#2a3f5f\"},\"type\":\"carpet\"}],\"table\":[{\"cells\":{\"fill\":{\"color\":\"#EBF0F8\"},\"line\":{\"color\":\"white\"}},\"header\":{\"fill\":{\"color\":\"#C8D4E3\"},\"line\":{\"color\":\"white\"}},\"type\":\"table\"}],\"barpolar\":[{\"marker\":{\"line\":{\"color\":\"#E5ECF6\",\"width\":0.5},\"pattern\":{\"fillmode\":\"overlay\",\"size\":10,\"solidity\":0.2}},\"type\":\"barpolar\"}],\"pie\":[{\"automargin\":true,\"type\":\"pie\"}]},\"layout\":{\"autotypenumbers\":\"strict\",\"colorway\":[\"#636efa\",\"#EF553B\",\"#00cc96\",\"#ab63fa\",\"#FFA15A\",\"#19d3f3\",\"#FF6692\",\"#B6E880\",\"#FF97FF\",\"#FECB52\"],\"font\":{\"color\":\"#2a3f5f\"},\"hovermode\":\"closest\",\"hoverlabel\":{\"align\":\"left\"},\"paper_bgcolor\":\"white\",\"plot_bgcolor\":\"#E5ECF6\",\"polar\":{\"bgcolor\":\"#E5ECF6\",\"angularaxis\":{\"gridcolor\":\"white\",\"linecolor\":\"white\",\"ticks\":\"\"},\"radialaxis\":{\"gridcolor\":\"white\",\"linecolor\":\"white\",\"ticks\":\"\"}},\"ternary\":{\"bgcolor\":\"#E5ECF6\",\"aaxis\":{\"gridcolor\":\"white\",\"linecolor\":\"white\",\"ticks\":\"\"},\"baxis\":{\"gridcolor\":\"white\",\"linecolor\":\"white\",\"ticks\":\"\"},\"caxis\":{\"gridcolor\":\"white\",\"linecolor\":\"white\",\"ticks\":\"\"}},\"coloraxis\":{\"colorbar\":{\"outlinewidth\":0,\"ticks\":\"\"}},\"colorscale\":{\"sequential\":[[0.0,\"#0d0887\"],[0.1111111111111111,\"#46039f\"],[0.2222222222222222,\"#7201a8\"],[0.3333333333333333,\"#9c179e\"],[0.4444444444444444,\"#bd3786\"],[0.5555555555555556,\"#d8576b\"],[0.6666666666666666,\"#ed7953\"],[0.7777777777777778,\"#fb9f3a\"],[0.8888888888888888,\"#fdca26\"],[1.0,\"#f0f921\"]],\"sequentialminus\":[[0.0,\"#0d0887\"],[0.1111111111111111,\"#46039f\"],[0.2222222222222222,\"#7201a8\"],[0.3333333333333333,\"#9c179e\"],[0.4444444444444444,\"#bd3786\"],[0.5555555555555556,\"#d8576b\"],[0.6666666666666666,\"#ed7953\"],[0.7777777777777778,\"#fb9f3a\"],[0.8888888888888888,\"#fdca26\"],[1.0,\"#f0f921\"]],\"diverging\":[[0,\"#8e0152\"],[0.1,\"#c51b7d\"],[0.2,\"#de77ae\"],[0.3,\"#f1b6da\"],[0.4,\"#fde0ef\"],[0.5,\"#f7f7f7\"],[0.6,\"#e6f5d0\"],[0.7,\"#b8e186\"],[0.8,\"#7fbc41\"],[0.9,\"#4d9221\"],[1,\"#276419\"]]},\"xaxis\":{\"gridcolor\":\"white\",\"linecolor\":\"white\",\"ticks\":\"\",\"title\":{\"standoff\":15},\"zerolinecolor\":\"white\",\"automargin\":true,\"zerolinewidth\":2},\"yaxis\":{\"gridcolor\":\"white\",\"linecolor\":\"white\",\"ticks\":\"\",\"title\":{\"standoff\":15},\"zerolinecolor\":\"white\",\"automargin\":true,\"zerolinewidth\":2},\"scene\":{\"xaxis\":{\"backgroundcolor\":\"#E5ECF6\",\"gridcolor\":\"white\",\"linecolor\":\"white\",\"showbackground\":true,\"ticks\":\"\",\"zerolinecolor\":\"white\",\"gridwidth\":2},\"yaxis\":{\"backgroundcolor\":\"#E5ECF6\",\"gridcolor\":\"white\",\"linecolor\":\"white\",\"showbackground\":true,\"ticks\":\"\",\"zerolinecolor\":\"white\",\"gridwidth\":2},\"zaxis\":{\"backgroundcolor\":\"#E5ECF6\",\"gridcolor\":\"white\",\"linecolor\":\"white\",\"showbackground\":true,\"ticks\":\"\",\"zerolinecolor\":\"white\",\"gridwidth\":2}},\"shapedefaults\":{\"line\":{\"color\":\"#2a3f5f\"}},\"annotationdefaults\":{\"arrowcolor\":\"#2a3f5f\",\"arrowhead\":0,\"arrowwidth\":1},\"geo\":{\"bgcolor\":\"white\",\"landcolor\":\"#E5ECF6\",\"subunitcolor\":\"white\",\"showland\":true,\"showlakes\":true,\"lakecolor\":\"white\"},\"title\":{\"x\":0.05},\"mapbox\":{\"style\":\"light\"}}},\"scene\":{\"xaxis\":{\"nticks\":4,\"range\":[-10,10],\"title\":{\"text\":\"X axis\"}},\"yaxis\":{\"nticks\":4,\"range\":[-10,10],\"title\":{\"text\":\"Y axis\"}},\"zaxis\":{\"nticks\":4,\"range\":[-10,10],\"title\":{\"text\":\"Z axis\"}},\"aspectmode\":\"cube\",\"camera\":{\"up\":{\"x\":0,\"y\":1,\"z\":0},\"eye\":{\"x\":1,\"y\":1,\"z\":1}}},\"margin\":{\"r\":20,\"b\":10,\"l\":10,\"t\":10},\"width\":700},                        {\"responsive\": true}                    ).then(function(){\n",
       "                            \n",
       "var gd = document.getElementById('857c7686-49f6-43e0-96c8-3663177b05ea');\n",
       "var x = new MutationObserver(function (mutations, observer) {{\n",
       "        var display = window.getComputedStyle(gd).display;\n",
       "        if (!display || display === 'none') {{\n",
       "            console.log([gd, 'removed!']);\n",
       "            Plotly.purge(gd);\n",
       "            observer.disconnect();\n",
       "        }}\n",
       "}});\n",
       "\n",
       "// Listen for the removal of the full notebook cells\n",
       "var notebookContainer = gd.closest('#notebook-container');\n",
       "if (notebookContainer) {{\n",
       "    x.observe(notebookContainer, {childList: true});\n",
       "}}\n",
       "\n",
       "// Listen for the clearing of the current output cell\n",
       "var outputEl = gd.closest('.output');\n",
       "if (outputEl) {{\n",
       "    x.observe(outputEl, {childList: true});\n",
       "}}\n",
       "\n",
       "                        })                };                });            </script>        </div>"
      ]
     },
     "metadata": {},
     "output_type": "display_data"
    }
   ],
   "source": [
    "fig = visualize_cameras_trajectorie(T_c2w)\n",
    "visualize_cameras(R_c2w, T_c2w, fig);"
   ]
  },
  {
   "cell_type": "code",
   "execution_count": null,
   "id": "6a744346-03af-4db6-95c9-49aa76b7a661",
   "metadata": {},
   "outputs": [],
   "source": []
  }
 ],
 "metadata": {
  "kernelspec": {
   "display_name": "Python 3 (ipykernel)",
   "language": "python",
   "name": "python3"
  },
  "language_info": {
   "codemirror_mode": {
    "name": "ipython",
    "version": 3
   },
   "file_extension": ".py",
   "mimetype": "text/x-python",
   "name": "python",
   "nbconvert_exporter": "python",
   "pygments_lexer": "ipython3",
   "version": "3.10.12"
  }
 },
 "nbformat": 4,
 "nbformat_minor": 5
}
