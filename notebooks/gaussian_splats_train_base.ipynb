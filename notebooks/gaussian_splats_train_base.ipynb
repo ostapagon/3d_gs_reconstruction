{
 "cells": [
  {
   "cell_type": "code",
   "execution_count": 1,
   "id": "d3419690-9c1b-48c3-bfa9-e1f69bd2ac4d",
   "metadata": {},
   "outputs": [],
   "source": [
    "import sys\n",
    "sys.path.append('/app')\n",
    "sys.path.append('/app/submodules/gaussian-splatting/')\n",
    "sys.path.append('/app/submodules/gaussian-splatting/submodules/')\n",
    "sys.path.append('/app/submodules/gaussian-splatting/submodules/diff-gaussian-rasterization/')\n",
    "sys.path.append('/app/submodules/gaussian-splatting/submodules/simple-knn/')"
   ]
  },
  {
   "cell_type": "code",
   "execution_count": 2,
   "id": "fbbad9e3-bb6a-4062-b8f6-675ddcc2bcb4",
   "metadata": {},
   "outputs": [],
   "source": [
    "%load_ext autoreload\n",
    "%autoreload 2"
   ]
  },
  {
   "cell_type": "code",
   "execution_count": 3,
   "id": "c25c2c48-1949-4fbd-b6b5-6e048730dfd7",
   "metadata": {},
   "outputs": [],
   "source": [
    "import os\n",
    "import torch\n",
    "from random import randint\n",
    "from utils.loss_utils import l1_loss, ssim\n",
    "from gaussian_renderer import render, network_gui\n",
    "import sys\n",
    "from scene import Scene, GaussianModel\n",
    "from utils.general_utils import safe_state\n",
    "import uuid\n",
    "from tqdm import tqdm\n",
    "from utils.image_utils import psnr\n",
    "from argparse import ArgumentParser, Namespace\n",
    "from arguments import ModelParams, PipelineParams, OptimizationParams"
   ]
  },
  {
   "cell_type": "code",
   "execution_count": 4,
   "id": "cd2478e2-55d0-4f8b-9846-326a30e2265c",
   "metadata": {},
   "outputs": [],
   "source": [
    "try:\n",
    "    import lovely_tensors as lt\n",
    "except:\n",
    "    ! pip install --upgrade lovely-tensors\n",
    "    import lovely_tensors as lt\n",
    "    \n",
    "lt.monkey_patch()"
   ]
  },
  {
   "cell_type": "code",
   "execution_count": 10,
   "id": "2882ef03-bca8-4db6-9502-f8a92506a53a",
   "metadata": {},
   "outputs": [],
   "source": [
    "from dataclasses import dataclass, field\n",
    "import os\n",
    "\n",
    "@dataclass\n",
    "class ModelParams:\n",
    "    sh_degree: int = 3\n",
    "    source_path: str = \"/app/data/custom_datasets/cow_synthetic_gtdepth/\"\n",
    "    model_path: str = \"\"\n",
    "    images: str = \"images\"\n",
    "    resolution: int = -1\n",
    "    white_background: bool = True#False\n",
    "    data_device: str = \"cuda\"\n",
    "    eval: bool = False\n",
    "\n",
    "    def post_init(self):\n",
    "        self.source_path = os.path.abspath(self.source_path)\n",
    "\n",
    "@dataclass\n",
    "class PipelineParams:\n",
    "    convert_SHs_python: bool = False\n",
    "    compute_cov3D_python: bool = False\n",
    "    debug: bool = False\n",
    "\n",
    "@dataclass\n",
    "class OptimizationParams:\n",
    "    iterations: int = 30_000\n",
    "    position_lr_init: float = 0.00016\n",
    "    position_lr_final: float = 0.0000016\n",
    "    position_lr_delay_mult: float = 0.01\n",
    "    position_lr_max_steps: int = 30_000\n",
    "    feature_lr: float = 0.0025\n",
    "    opacity_lr: float = 0.05\n",
    "    scaling_lr: float = 0.005\n",
    "    rotation_lr: float = 0.001\n",
    "    percent_dense: float = 0.01\n",
    "    lambda_dssim: float = 0.2\n",
    "    densification_interval: int = 100\n",
    "    opacity_reset_interval: int = 3000\n",
    "    densify_from_iter: int = 500\n",
    "    densify_until_iter: int = 15_000\n",
    "    densify_grad_threshold: float = 0.0002\n",
    "\n",
    "@dataclass\n",
    "class TrainingArgs:\n",
    "    ip: str = \"0.0.0.0\"\n",
    "    port: int = 6007\n",
    "    debug_from: int = -1\n",
    "    detect_anomaly: bool = False\n",
    "    test_iterations: list[int] = field(default_factory=lambda: [7_000, 30_000])\n",
    "    save_iterations: list[int] = field(default_factory=lambda: [7_000, 30_000])\n",
    "    quiet: bool = False\n",
    "    checkpoint_iterations: list[int] = field(default_factory=lambda: [7_000, 15_000, 30_000])\n",
    "    start_checkpoint: str = None\n",
    "    \n",
    "dataset = ModelParams()\n",
    "opt = OptimizationParams()\n",
    "pipe = PipelineParams()\n",
    "args = TrainingArgs()\n",
    "\n",
    "testing_iterations = args.test_iterations\n",
    "saving_iterations = args.save_iterations \n",
    "checkpoint_iterations = args.checkpoint_iterations \n",
    "checkpoint = args.start_checkpoint\n",
    "debug_from = args.debug_from"
   ]
  },
  {
   "cell_type": "code",
   "execution_count": 11,
   "id": "a252567a-4601-489e-b461-f93a43ecb5aa",
   "metadata": {},
   "outputs": [
    {
     "name": "stdout",
     "output_type": "stream",
     "text": [
      "Found transforms_train.json file, assuming Blender data set!\n",
      "Reading Training Transforms\n",
      "Loading Training Cameras\n",
      "Loading Test Cameras\n",
      "0.4980392156862745\n",
      "Number of points at initialisation :  100000\n"
     ]
    },
    {
     "name": "stderr",
     "output_type": "stream",
     "text": [
      "Training progress:  13%|███████████████▌                                                                                                           | 3810/30000 [00:39<02:52, 152.21it/s, Loss=0.0031324]"
     ]
    }
   ],
   "source": [
    "gaussians = GaussianModel(dataset.sh_degree)\n",
    "scene = Scene(dataset, gaussians)\n",
    "gaussians.training_setup(opt)"
   ]
  },
  {
   "cell_type": "code",
   "execution_count": 7,
   "id": "f64b9f63-dd86-4b5f-a545-c30539b88a76",
   "metadata": {},
   "outputs": [],
   "source": [
    "bg_color = [1, 1, 1] if dataset.white_background else [0, 0, 0]\n",
    "background = torch.tensor(bg_color, dtype=torch.float32, device=\"cuda\")"
   ]
  },
  {
   "cell_type": "code",
   "execution_count": 8,
   "id": "d162f412-120a-4735-a66f-5863b922bb94",
   "metadata": {},
   "outputs": [],
   "source": [
    "iter_start = torch.cuda.Event(enable_timing = True)\n",
    "iter_end = torch.cuda.Event(enable_timing = True)"
   ]
  },
  {
   "cell_type": "code",
   "execution_count": 9,
   "id": "4b95824c-5c7a-4904-91cf-87abd9414048",
   "metadata": {},
   "outputs": [
    {
     "name": "stderr",
     "output_type": "stream",
     "text": [
      "Training progress:  13%|███████████████▌                                                                                                           | 3810/30000 [00:26<02:52, 152.21it/s, Loss=0.0031324]Exception ignored in: <bound method IPythonKernel._clean_thread_parent_frames of <ipykernel.ipkernel.IPythonKernel object at 0x764c4be0de10>>\n",
      "Traceback (most recent call last):\n",
      "  File \"/opt/venv/lib/python3.10/site-packages/ipykernel/ipkernel.py\", line 770, in _clean_thread_parent_frames\n",
      "    def _clean_thread_parent_frames(\n",
      "KeyboardInterrupt: \n"
     ]
    },
    {
     "ename": "KeyboardInterrupt",
     "evalue": "",
     "output_type": "error",
     "traceback": [
      "\u001b[0;31m---------------------------------------------------------------------------\u001b[0m",
      "\u001b[0;31mKeyboardInterrupt\u001b[0m                         Traceback (most recent call last)",
      "Cell \u001b[0;32mIn[9], line 61\u001b[0m\n\u001b[1;32m     59\u001b[0m \u001b[38;5;66;03m# Optimizer step\u001b[39;00m\n\u001b[1;32m     60\u001b[0m \u001b[38;5;28;01mif\u001b[39;00m iteration \u001b[38;5;241m<\u001b[39m opt\u001b[38;5;241m.\u001b[39miterations:\n\u001b[0;32m---> 61\u001b[0m     \u001b[43mgaussians\u001b[49m\u001b[38;5;241;43m.\u001b[39;49m\u001b[43moptimizer\u001b[49m\u001b[38;5;241;43m.\u001b[39;49m\u001b[43mstep\u001b[49m\u001b[43m(\u001b[49m\u001b[43m)\u001b[49m\n\u001b[1;32m     62\u001b[0m     gaussians\u001b[38;5;241m.\u001b[39moptimizer\u001b[38;5;241m.\u001b[39mzero_grad(set_to_none \u001b[38;5;241m=\u001b[39m \u001b[38;5;28;01mTrue\u001b[39;00m)\n\u001b[1;32m     64\u001b[0m \u001b[38;5;28;01mif\u001b[39;00m (iteration \u001b[38;5;129;01min\u001b[39;00m checkpoint_iterations):\n",
      "File \u001b[0;32m/opt/venv/lib/python3.10/site-packages/torch/optim/optimizer.py:269\u001b[0m, in \u001b[0;36mOptimizer.profile_hook_step.<locals>.wrapper\u001b[0;34m(*args, **kwargs)\u001b[0m\n\u001b[1;32m    267\u001b[0m \u001b[38;5;28mself\u001b[39m, \u001b[38;5;241m*\u001b[39m_ \u001b[38;5;241m=\u001b[39m args\n\u001b[1;32m    268\u001b[0m profile_name \u001b[38;5;241m=\u001b[39m \u001b[38;5;124m\"\u001b[39m\u001b[38;5;124mOptimizer.step#\u001b[39m\u001b[38;5;132;01m{}\u001b[39;00m\u001b[38;5;124m.step\u001b[39m\u001b[38;5;124m\"\u001b[39m\u001b[38;5;241m.\u001b[39mformat(\u001b[38;5;28mself\u001b[39m\u001b[38;5;241m.\u001b[39m\u001b[38;5;18m__class__\u001b[39m\u001b[38;5;241m.\u001b[39m\u001b[38;5;18m__name__\u001b[39m)\n\u001b[0;32m--> 269\u001b[0m \u001b[38;5;28;01mwith\u001b[39;00m torch\u001b[38;5;241m.\u001b[39mautograd\u001b[38;5;241m.\u001b[39mprofiler\u001b[38;5;241m.\u001b[39mrecord_function(profile_name):\n\u001b[1;32m    270\u001b[0m     \u001b[38;5;66;03m# call optimizer step pre hooks\u001b[39;00m\n\u001b[1;32m    271\u001b[0m     \u001b[38;5;28;01mfor\u001b[39;00m pre_hook \u001b[38;5;129;01min\u001b[39;00m chain(_global_optimizer_pre_hooks\u001b[38;5;241m.\u001b[39mvalues(), \u001b[38;5;28mself\u001b[39m\u001b[38;5;241m.\u001b[39m_optimizer_step_pre_hooks\u001b[38;5;241m.\u001b[39mvalues()):\n\u001b[1;32m    272\u001b[0m         result \u001b[38;5;241m=\u001b[39m pre_hook(\u001b[38;5;28mself\u001b[39m, args, kwargs)\n",
      "File \u001b[0;32m/opt/venv/lib/python3.10/site-packages/torch/autograd/profiler.py:491\u001b[0m, in \u001b[0;36mrecord_function.__enter__\u001b[0;34m(self)\u001b[0m\n\u001b[1;32m    487\u001b[0m     \u001b[38;5;66;03m# TODO: TorchScript ignores standard type annotation here\u001b[39;00m\n\u001b[1;32m    488\u001b[0m     \u001b[38;5;66;03m# self.record: Optional[\"torch.classes.profiler._RecordFunction\"] = None\u001b[39;00m\n\u001b[1;32m    489\u001b[0m     \u001b[38;5;28mself\u001b[39m\u001b[38;5;241m.\u001b[39mrecord \u001b[38;5;241m=\u001b[39m torch\u001b[38;5;241m.\u001b[39mjit\u001b[38;5;241m.\u001b[39mannotate(Optional[\u001b[38;5;124m\"\u001b[39m\u001b[38;5;124mtorch.classes.profiler._RecordFunction\u001b[39m\u001b[38;5;124m\"\u001b[39m], \u001b[38;5;28;01mNone\u001b[39;00m)\n\u001b[0;32m--> 491\u001b[0m \u001b[38;5;28;01mdef\u001b[39;00m \u001b[38;5;21m__enter__\u001b[39m(\u001b[38;5;28mself\u001b[39m):\n\u001b[1;32m    492\u001b[0m     \u001b[38;5;28mself\u001b[39m\u001b[38;5;241m.\u001b[39mrecord \u001b[38;5;241m=\u001b[39m torch\u001b[38;5;241m.\u001b[39mops\u001b[38;5;241m.\u001b[39mprofiler\u001b[38;5;241m.\u001b[39m_record_function_enter_new(\u001b[38;5;28mself\u001b[39m\u001b[38;5;241m.\u001b[39mname, \u001b[38;5;28mself\u001b[39m\u001b[38;5;241m.\u001b[39margs)\n\u001b[1;32m    493\u001b[0m     \u001b[38;5;28;01mreturn\u001b[39;00m \u001b[38;5;28mself\u001b[39m\n",
      "\u001b[0;31mKeyboardInterrupt\u001b[0m: "
     ]
    }
   ],
   "source": [
    "viewpoint_stack = None\n",
    "ema_loss_for_log = 0.0\n",
    "first_iter = 0\n",
    "progress_bar = tqdm(range(first_iter, opt.iterations), desc=\"Training progress\")\n",
    "first_iter += 1\n",
    "for iteration in range(first_iter, opt.iterations + 1):\n",
    "    iter_start.record()\n",
    "    gaussians.update_learning_rate(iteration)\n",
    "    \n",
    "    # Every 1000 its we increase the levels of SH up to a maximum degree\n",
    "    if iteration % 1000 == 0:\n",
    "        gaussians.oneupSHdegree()\n",
    "        \n",
    "    # Pick a random Camera\n",
    "    if not viewpoint_stack:\n",
    "        viewpoint_stack = scene.getTrainCameras().copy()\n",
    "    viewpoint_cam = viewpoint_stack.pop(randint(0, len(viewpoint_stack)-1))\n",
    "    \n",
    "    # Render\n",
    "    if (iteration - 1) == debug_from:\n",
    "        pipe.debug = True\n",
    "    render_pkg = render(viewpoint_cam, gaussians, pipe, background)\n",
    "    image, viewspace_point_tensor, visibility_filter, radii = render_pkg[\"render\"], render_pkg[\"viewspace_points\"], render_pkg[\"visibility_filter\"], render_pkg[\"radii\"]\n",
    "\n",
    "    # Loss\n",
    "    gt_image = viewpoint_cam.original_image.cuda()\n",
    "    Ll1 = l1_loss(image, gt_image)\n",
    "    loss = (1.0 - opt.lambda_dssim) * Ll1 + opt.lambda_dssim * (1.0 - ssim(image, gt_image))\n",
    "    loss.backward()\n",
    "    iter_end.record()\n",
    "    \n",
    "    with torch.no_grad():\n",
    "        ema_loss_for_log = 0.4 * loss.item() + 0.6 * ema_loss_for_log\n",
    "        if iteration % 10 == 0:\n",
    "            progress_bar.set_postfix({\"Loss\": f\"{ema_loss_for_log:.{7}f}\"})\n",
    "            progress_bar.update(10)\n",
    "        if iteration == opt.iterations:\n",
    "            progress_bar.close()\n",
    "\n",
    "        # # Log and save\n",
    "        # training_report(tb_writer, iteration, Ll1, loss, l1_loss, iter_start.elapsed_time(iter_end), testing_iterations, scene, render, (pipe, background))\n",
    "        # if (iteration in saving_iterations):\n",
    "        #     print(\"\\n[ITER {}] Saving Gaussians\".format(iteration))\n",
    "        #     scene.save(iteration)\n",
    "\n",
    "        # Densification\n",
    "        if iteration < opt.densify_until_iter:\n",
    "            # Keep track of max radii in image-space for pruning\n",
    "            gaussians.max_radii2D[visibility_filter] = torch.max(gaussians.max_radii2D[visibility_filter], radii[visibility_filter])\n",
    "            gaussians.add_densification_stats(viewspace_point_tensor, visibility_filter)\n",
    "\n",
    "            if iteration > opt.densify_from_iter and iteration % opt.densification_interval == 0:\n",
    "                size_threshold = 20 if iteration > opt.opacity_reset_interval else None\n",
    "                gaussians.densify_and_prune(opt.densify_grad_threshold, 0.005, scene.cameras_extent, size_threshold)\n",
    "\n",
    "            if iteration % opt.opacity_reset_interval == 0 or (dataset.white_background and iteration == opt.densify_from_iter):\n",
    "                gaussians.reset_opacity()\n",
    "                \n",
    "        # Optimizer step\n",
    "        if iteration < opt.iterations:\n",
    "            gaussians.optimizer.step()\n",
    "            gaussians.optimizer.zero_grad(set_to_none = True)\n",
    "\n",
    "        if (iteration in checkpoint_iterations):\n",
    "            print(\"\\n[ITER {}] Saving Checkpoint\".format(iteration))\n",
    "            torch.save((gaussians.capture(), iteration), scene.model_path + \"/chkpnt\" + str(iteration) + \".pth\")\n",
    "    \n",
    "    if iteration > 15_000: break"
   ]
  },
  {
   "cell_type": "code",
   "execution_count": 29,
   "id": "76b9fdcf-4080-4410-9cbf-96f580759a64",
   "metadata": {},
   "outputs": [
    {
     "data": {
      "image/png": "[encoded data removed]",
      "text/plain": [
       "<lovely_tensors.repr_rgb.RGBProxy at 0x767145b42980>"
      ]
     },
     "execution_count": 29,
     "metadata": {},
     "output_type": "execute_result"
    }
   ],
   "source": [
    "import random\n",
    "cameras = scene.getTrainCameras().copy()\n",
    "\n",
    "with torch.inference_mode():\n",
    "    viewpoint_cam = random.choice(cameras)\n",
    "    render_pkg = render(viewpoint_cam, gaussians, pipe, background)\n",
    "    image, viewspace_point_tensor, visibility_filter, radii = render_pkg[\"render\"], render_pkg[\"viewspace_points\"], render_pkg[\"visibility_filter\"], render_pkg[\"radii\"]\n",
    "    \n",
    "image.rgb"
   ]
  },
  {
   "cell_type": "code",
   "execution_count": null,
   "id": "2789fbf2-6857-467b-9a8e-5bf12d909684",
   "metadata": {},
   "outputs": [],
   "source": []
  }
 ],
 "metadata": {
  "kernelspec": {
   "display_name": "Python 3 (ipykernel)",
   "language": "python",
   "name": "python3"
  },
  "language_info": {
   "codemirror_mode": {
    "name": "ipython",
    "version": 3
   },
   "file_extension": ".py",
   "mimetype": "text/x-python",
   "name": "python",
   "nbconvert_exporter": "python",
   "pygments_lexer": "ipython3",
   "version": "3.10.12"
  }
 },
 "nbformat": 4,
 "nbformat_minor": 5
}
